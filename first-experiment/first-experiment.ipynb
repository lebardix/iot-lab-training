{
 "cells": [
  {
   "cell_type": "markdown",
   "metadata": {},
   "source": [
    "## Flash a prebuilt firmware on IoT-LAB\n",
    "\n",
    "In this exercise, you will:\n",
    "1. Submit and experiment on one IoT-LAB M3 device\n",
    "2. Flash a precompiled firmware on the device\n",
    "3. Connect to the serial port of the device and read the output of the firmware\n",
    "\n",
    "<figure>\n",
    "    <img src=\"images/serial-link.png\" alt=\"serial-link\" width=\"500\">\n",
    "    <figcaption><em>Serial-link access from user environment</em></figcaption>\n",
    "</figure>\n",
    "\n",
    "### Submit an experiment on the IoT-LAB\n",
    "\n",
    "1. Choose your site (grenoble|lille|strasbourg):"
   ]
  },
  {
   "cell_type": "code",
   "execution_count": 2,
   "metadata": {},
   "outputs": [
    {
     "name": "stdout",
     "output_type": "stream",
     "text": [
      "env: SITE=grenoble\n"
     ]
    }
   ],
   "source": [
    "%env SITE=grenoble"
   ]
  },
  {
   "cell_type": "markdown",
   "metadata": {},
   "source": [
    "2. Submit an experiment using the following command:"
   ]
  },
  {
   "cell_type": "code",
   "execution_count": 3,
   "metadata": {},
   "outputs": [
    {
     "name": "stdout",
     "output_type": "stream",
     "text": [
      "{\n",
      "    \"id\": 197988\n",
      "}\n"
     ]
    }
   ],
   "source": [
    "!iotlab-experiment submit -n \"flash\" -d 20 -l 1,archi=m3:at86rf231+site=$SITE,tutorial_m3.elf"
   ]
  },
  {
   "cell_type": "markdown",
   "metadata": {},
   "source": [
    "The `-l` option is used to specify resources needed and firmware association. Here you specified resources by their characteristics (number, type of node (_archi_) and site) but it is  also possible to specify resources by their IDs. Read the command help to have an overview of options, syntax and some examples."
   ]
  },
  {
   "cell_type": "code",
   "execution_count": 4,
   "metadata": {},
   "outputs": [
    {
     "name": "stdout",
     "output_type": "stream",
     "text": [
      "usage: iotlab-experiment submit [-h] [-p] [-n NAME] -d DURATION\n",
      "                                [-r RESERVATION] -l NODES_LIST\n",
      "                                [-s SITE_ASSOCIATION] [--help-list]\n",
      "                                [--help-site-association]\n",
      "\n",
      "optional arguments:\n",
      "  -h, --help            show this help message and exit\n",
      "  -p, --print           print experiment submission\n",
      "\n",
      "experiment configuration:\n",
      "  -n NAME, --name NAME  experiment name\n",
      "  -d DURATION, --duration DURATION\n",
      "                        experiment duration in minutes\n",
      "  -r RESERVATION, --reservation RESERVATION\n",
      "                        experiment schedule starting : seconds since 1970-01-01 00:00:00 UTC\n",
      "\n",
      "resource configuration:\n",
      "  -l NODES_LIST, --list NODES_LIST\n",
      "                        experiment list\n",
      "  -s SITE_ASSOCIATION, --site-association SITE_ASSOCIATION\n",
      "                        sites associations\n",
      "\n",
      "advanced help options:\n",
      "  --help-list           show help on --list option\n",
      "  --help-site-association\n",
      "                        show help on --site-association option\n",
      "\n",
      "Examples:\n",
      "    Note: All the lists must be of the same type: Alias or Physical\n",
      "\n",
      "    $ iotlab-experiment submit -d 20 -l <experiment_list>         -l <experiment_list_2>\n",
      "\n",
      "    * Physical experiment list:\n",
      "        + <site_name,archi,nodes_id_list,firmware_path,profile_name>\n",
      "        + grenoble,m3,1-20,bin/tutorial.elf -l rocquencourt,a8,1-5,,battery\n",
      "        + grenoble,wsn430,1-5+8+9-11,cc1101.hex,battery\n",
      "        + grenoble,m3,1-20\n",
      "\n",
      "    * Alias experiment list:\n",
      "        + <nodes_number,properties,firmware_path,profile_name>\n",
      "        + 9,archi=wsn430:cc1101+site=grenoble,tp.hex,battery\n",
      "        + 9,archi=m3:at86rf231+site=grenoble,gre.elf\n",
      "        + 5,archi=m3:at86rf231+site=strasbourg,stras.elf\n"
     ]
    }
   ],
   "source": [
    "!iotlab-experiment submit -h"
   ]
  },
  {
   "cell_type": "markdown",
   "metadata": {},
   "source": [
    "3. Wait for the experiment to be in the Running state:"
   ]
  },
  {
   "cell_type": "code",
   "execution_count": 5,
   "metadata": {},
   "outputs": [
    {
     "name": "stdout",
     "output_type": "stream",
     "text": [
      "Waiting that experiment 197988 gets in state Running\n",
      "\"Running\"\n"
     ]
    }
   ],
   "source": [
    "!iotlab-experiment wait --timeout 30 --cancel-on-timeout"
   ]
  },
  {
   "cell_type": "markdown",
   "metadata": {},
   "source": [
    "**Note:** If the command above returns the message `Timeout reached, cancelling experiment <exp_id>`, try to re-submit your experiment later or try on another site."
   ]
  },
  {
   "cell_type": "markdown",
   "metadata": {},
   "source": [
    "4. Get the experiment nodes list:"
   ]
  },
  {
   "cell_type": "code",
   "execution_count": 6,
   "metadata": {},
   "outputs": [
    {
     "name": "stdout",
     "output_type": "stream",
     "text": [
      "{\n",
      "    \"items\": [\n",
      "        {\n",
      "            \"archi\": \"m3:at86rf231\",\n",
      "            \"camera\": null,\n",
      "            \"mobile\": \"0\",\n",
      "            \"mobility_type\": \" \",\n",
      "            \"network_address\": \"m3-101.grenoble.iot-lab.info\",\n",
      "            \"production\": \"YES\",\n",
      "            \"site\": \"grenoble\",\n",
      "            \"state\": \"Alive\",\n",
      "            \"uid\": \"9181\",\n",
      "            \"x\": \"0.40\",\n",
      "            \"y\": \"24.63\",\n",
      "            \"z\": \"-0.04\"\n",
      "        }\n",
      "    ]\n",
      "}\n"
     ]
    }
   ],
   "source": [
    "!iotlab-experiment get --nodes"
   ]
  },
  {
   "cell_type": "markdown",
   "metadata": {},
   "source": [
    "### Open a serial console and read the output the firmware\n",
    "\n",
    "The serial port of each device used in an experiment is reachable via a TCP socket exposed on the site server.\n",
    "\n",
    "1. Open a JupyterLab Terminal (File > New > Terminal) and connect to the SSH frontend server. Replace `<site>` with the right value."
   ]
  },
  {
   "cell_type": "raw",
   "metadata": {},
   "source": [
    "ssh $IOTLAB_LOGIN@<site>.iot-lab.info"
   ]
  },
  {
   "cell_type": "markdown",
   "metadata": {},
   "source": [
    "2. From there, use the `nc` (or 'netcat') utility to connect to this socket (host is node's network address, port is 20000):"
   ]
  },
  {
   "cell_type": "raw",
   "metadata": {},
   "source": [
    "<login>@<site>:~$ nc m3-<id> 20000"
   ]
  },
  {
   "cell_type": "markdown",
   "metadata": {},
   "source": [
    "3. Type 'h' and Enter to display the help. Then, type another command to test the firmware features."
   ]
  },
  {
   "cell_type": "markdown",
   "metadata": {},
   "source": [
    "### Free up the resources\n",
    "\n",
    "Since you finished the training, stop your experiment to free up the experiment nodes:"
   ]
  },
  {
   "cell_type": "code",
   "execution_count": 7,
   "metadata": {},
   "outputs": [
    {
     "name": "stdout",
     "output_type": "stream",
     "text": [
      "{\n",
      "    \"id\": 197988,\n",
      "    \"status\": \"Delete request registered\"\n",
      "}\n"
     ]
    }
   ],
   "source": [
    "!iotlab-experiment stop"
   ]
  },
  {
   "cell_type": "markdown",
   "metadata": {},
   "source": [
    "The serial link connection through SSH will be closed automatically."
   ]
  }
 ],
 "metadata": {
  "kernelspec": {
   "display_name": "Python 3",
   "language": "python",
   "name": "python3"
  },
  "language_info": {
   "codemirror_mode": {
    "name": "ipython",
    "version": 3
   },
   "file_extension": ".py",
   "mimetype": "text/x-python",
   "name": "python",
   "nbconvert_exporter": "python",
   "pygments_lexer": "ipython3",
   "version": "3.7.6"
  }
 },
 "nbformat": 4,
 "nbformat_minor": 4
}
