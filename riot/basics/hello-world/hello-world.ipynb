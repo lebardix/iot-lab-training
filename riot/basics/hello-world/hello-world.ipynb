{
 "cells": [
  {
   "cell_type": "markdown",
   "metadata": {},
   "source": [
    "## First RIOT application\n",
    "\n",
    "In this exercise, you will build your first RIOT application and run it.\n",
    "\n",
    "- In a first step, the application will be built for the `native` target and run as a regular application.\n",
    "\n",
    "- In a second step, you will submit a new experiment on IoT-LAB with one iotlab-m3 node, then build and flash this application for this target."
   ]
  },
  {
   "cell_type": "markdown",
   "metadata": {},
   "source": [
    "### Build for native\n",
    "\n",
    "The Makefile of the RIOT application is the simplest possible:\n",
    "\n",
    "```mk\n",
    "# Name of the application\n",
    "APPLICATION = hello-world\n",
    "\n",
    "# Default target board\n",
    "BOARD ?= native\n",
    "\n",
    "USEMODULE += xtimer\n",
    "\n",
    "# Path to the RIOT base directory\n",
    "RIOTBASE ?= $(CURDIR)/../../RIOT\n",
    "\n",
    "# Include all build system logic for building the application\n",
    "include $(RIOTBASE)/Makefile.include\n",
    "```\n",
    "\n",
    "The `main.c` is also very simple and contains standard C code. We wait five seconds and write the message \"Hello from RIOT!\" on the serial port\n",
    "```c\n",
    "#include <stdio.h>\n",
    "\n",
    "int main(void)\n",
    "{\n",
    "    xtimer_sleep(5);\n",
    "    puts(\"Hello from RIOT!\");\n",
    "    return 0;\n",
    "}\n",
    "```\n",
    "\n",
    "Build the application and run it on native is then as simple as running the following command:\n"
   ]
  },
  {
   "cell_type": "code",
   "execution_count": 3,
   "metadata": {},
   "outputs": [
    {
     "name": "stdout",
     "output_type": "stream",
     "text": [
      "\u001b[1;32mBuilding application \"hello-world\" for \"native\" with MCU \"native\".\u001b[0m\n",
      "\n",
      "\"make\" -C /home/jovyan/work/iot-lab-training/riot/RIOT/boards/native\n",
      "\"make\" -C /home/jovyan/work/iot-lab-training/riot/RIOT/boards/native/drivers\n",
      "\"make\" -C /home/jovyan/work/iot-lab-training/riot/RIOT/core\n",
      "\"make\" -C /home/jovyan/work/iot-lab-training/riot/RIOT/cpu/native\n",
      "\"make\" -C /home/jovyan/work/iot-lab-training/riot/RIOT/cpu/native/periph\n",
      "\"make\" -C /home/jovyan/work/iot-lab-training/riot/RIOT/cpu/native/stdio_native\n",
      "\"make\" -C /home/jovyan/work/iot-lab-training/riot/RIOT/cpu/native/vfs\n",
      "\"make\" -C /home/jovyan/work/iot-lab-training/riot/RIOT/drivers\n",
      "\"make\" -C /home/jovyan/work/iot-lab-training/riot/RIOT/drivers/periph_common\n",
      "\"make\" -C /home/jovyan/work/iot-lab-training/riot/RIOT/sys\n",
      "\"make\" -C /home/jovyan/work/iot-lab-training/riot/RIOT/sys/auto_init\n",
      "\"make\" -C /home/jovyan/work/iot-lab-training/riot/RIOT/sys/div\n",
      "\"make\" -C /home/jovyan/work/iot-lab-training/riot/RIOT/sys/xtimer\n",
      "   text\t   data\t    bss\t    dec\t    hex\tfilename\n",
      "  26794\t    576\t  47720\t  75090\t  12552\t/home/jovyan/work/iot-lab-training/riot/basics/hello-world/bin/native/hello-world.elf\n",
      "/home/jovyan/work/iot-lab-training/riot/basics/hello-world/bin/native/hello-world.elf  \n",
      "RIOT native interrupts/signals initialized.\n",
      "LED_RED_OFF\n",
      "LED_GREEN_ON\n",
      "RIOT native board initialized.\n",
      "RIOT native hardware initialization complete.\n",
      "\n",
      "main(): This is RIOT! (Version: 2020.01)\n",
      "Hello from RIOT!\n",
      "^C\n",
      "\n",
      "native: exiting\n"
     ]
    }
   ],
   "source": [
    "!make all term"
   ]
  },
  {
   "cell_type": "markdown",
   "metadata": {},
   "source": [
    "**Important:** once done interrupt the Jupyter kernel by clicking the ◼ button in the menu bar above."
   ]
  },
  {
   "cell_type": "markdown",
   "metadata": {},
   "source": [
    "### Build for an iotlab-m3\n",
    "\n",
    "Build the firmware for the `iotlab-m3` target, using the `BOARD` variable:"
   ]
  },
  {
   "cell_type": "code",
   "execution_count": 4,
   "metadata": {},
   "outputs": [
    {
     "name": "stdout",
     "output_type": "stream",
     "text": [
      "\u001b[1;32mBuilding application \"hello-world\" for \"iotlab-m3\" with MCU \"stm32f1\".\u001b[0m\n",
      "\n",
      "\"make\" -C /home/jovyan/work/iot-lab-training/riot/RIOT/boards/iotlab-m3\n",
      "\"make\" -C /home/jovyan/work/iot-lab-training/riot/RIOT/boards/common/iotlab\n",
      "\"make\" -C /home/jovyan/work/iot-lab-training/riot/RIOT/core\n",
      "\"make\" -C /home/jovyan/work/iot-lab-training/riot/RIOT/cpu/stm32f1\n",
      "\"make\" -C /home/jovyan/work/iot-lab-training/riot/RIOT/cpu/cortexm_common\n",
      "\"make\" -C /home/jovyan/work/iot-lab-training/riot/RIOT/cpu/cortexm_common/periph\n",
      "\"make\" -C /home/jovyan/work/iot-lab-training/riot/RIOT/cpu/stm32_common\n",
      "\"make\" -C /home/jovyan/work/iot-lab-training/riot/RIOT/cpu/stm32_common/periph\n",
      "\"make\" -C /home/jovyan/work/iot-lab-training/riot/RIOT/cpu/stm32f1/periph\n",
      "\"make\" -C /home/jovyan/work/iot-lab-training/riot/RIOT/drivers\n",
      "\"make\" -C /home/jovyan/work/iot-lab-training/riot/RIOT/drivers/periph_common\n",
      "\"make\" -C /home/jovyan/work/iot-lab-training/riot/RIOT/sys\n",
      "\"make\" -C /home/jovyan/work/iot-lab-training/riot/RIOT/sys/auto_init\n",
      "\"make\" -C /home/jovyan/work/iot-lab-training/riot/RIOT/sys/div\n",
      "\"make\" -C /home/jovyan/work/iot-lab-training/riot/RIOT/sys/newlib_syscalls_default\n",
      "\"make\" -C /home/jovyan/work/iot-lab-training/riot/RIOT/sys/pm_layered\n",
      "\"make\" -C /home/jovyan/work/iot-lab-training/riot/RIOT/sys/stdio_uart\n",
      "\"make\" -C /home/jovyan/work/iot-lab-training/riot/RIOT/sys/xtimer\n",
      "   text\t   data\t    bss\t    dec\t    hex\tfilename\n",
      "   8372\t    120\t   2596\t  11088\t   2b50\t/home/jovyan/work/iot-lab-training/riot/basics/hello-world/bin/iotlab-m3/hello-world.elf\n"
     ]
    }
   ],
   "source": [
    "!make BOARD=iotlab-m3"
   ]
  },
  {
   "cell_type": "markdown",
   "metadata": {},
   "source": [
    "### Submit an experiment on IoT-LAB"
   ]
  },
  {
   "cell_type": "markdown",
   "metadata": {},
   "source": [
    "1. Choose your site (grenoble|lille|strasbourg):"
   ]
  },
  {
   "cell_type": "code",
   "execution_count": 5,
   "metadata": {},
   "outputs": [
    {
     "name": "stdout",
     "output_type": "stream",
     "text": [
      "env: SITE=grenoble\n"
     ]
    }
   ],
   "source": [
    "%env SITE=grenoble"
   ]
  },
  {
   "cell_type": "markdown",
   "metadata": {},
   "source": [
    "2. Submit an experiment using the following command:"
   ]
  },
  {
   "cell_type": "code",
   "execution_count": 6,
   "metadata": {},
   "outputs": [
    {
     "name": "stdout",
     "output_type": "stream",
     "text": [
      "{\n",
      "    \"id\": 197947\n",
      "}\n"
     ]
    }
   ],
   "source": [
    "!iotlab-experiment submit -n \"hello_world\" -d 20 -l 1,archi=m3:at86rf231+site=$SITE"
   ]
  },
  {
   "cell_type": "markdown",
   "metadata": {},
   "source": [
    "3. Wait for the experiment to be in the Running state:"
   ]
  },
  {
   "cell_type": "code",
   "execution_count": 7,
   "metadata": {},
   "outputs": [
    {
     "name": "stdout",
     "output_type": "stream",
     "text": [
      "Waiting that experiment 197947 gets in state Running\n",
      "\"Running\"\n"
     ]
    }
   ],
   "source": [
    "!iotlab-experiment wait --timeout 30 --cancel-on-timeout"
   ]
  },
  {
   "cell_type": "markdown",
   "metadata": {},
   "source": [
    "**Note:** If the command above returns the message `Timeout reached, cancelling experiment <exp_id>`, try to re-submit your experiment later or try on another site."
   ]
  },
  {
   "cell_type": "markdown",
   "metadata": {},
   "source": [
    "4. Get the experiment nodes list:"
   ]
  },
  {
   "cell_type": "code",
   "execution_count": 7,
   "metadata": {},
   "outputs": [
    {
     "name": "stdout",
     "output_type": "stream",
     "text": [
      "{\n",
      "    \"items\": [\n",
      "        {\n",
      "            \"archi\": \"m3:at86rf231\",\n",
      "            \"camera\": null,\n",
      "            \"mobile\": \"0\",\n",
      "            \"mobility_type\": \" \",\n",
      "            \"network_address\": \"m3-95.grenoble.iot-lab.info\",\n",
      "            \"production\": \"YES\",\n",
      "            \"site\": \"grenoble\",\n",
      "            \"state\": \"Alive\",\n",
      "            \"uid\": \"a770\",\n",
      "            \"x\": \"0.40\",\n",
      "            \"y\": \"26.52\",\n",
      "            \"z\": \"-0.04\"\n",
      "        }\n",
      "    ]\n",
      "}\n"
     ]
    }
   ],
   "source": [
    "!iotlab-experiment get --nodes"
   ]
  },
  {
   "cell_type": "markdown",
   "metadata": {},
   "source": [
    "### Open a terminal and flash the firmware on the iotlab-m3\n",
    "\n",
    "1. Open a Jupyter terminal (use `File > New > Terminal`) and run the following command from it."
   ]
  },
  {
   "cell_type": "raw",
   "metadata": {},
   "source": [
    "make BOARD=iotlab-m3 IOTLAB_NODE=auto-ssh -C riot/basics/hello-world term"
   ]
  },
  {
   "cell_type": "markdown",
   "metadata": {},
   "source": [
    "2. Using the `IOTLAB_NODE`, you can also easily flash the device."
   ]
  },
  {
   "cell_type": "code",
   "execution_count": 8,
   "metadata": {},
   "outputs": [
    {
     "name": "stdout",
     "output_type": "stream",
     "text": [
      "\u001b[1;32mBuilding application \"hello-world\" for \"iotlab-m3\" with MCU \"stm32f1\".\u001b[0m\n",
      "\n",
      "\"make\" -C /home/jovyan/work/iot-lab-training/riot/RIOT/boards/iotlab-m3\n",
      "\"make\" -C /home/jovyan/work/iot-lab-training/riot/RIOT/boards/common/iotlab\n",
      "\"make\" -C /home/jovyan/work/iot-lab-training/riot/RIOT/core\n",
      "\"make\" -C /home/jovyan/work/iot-lab-training/riot/RIOT/cpu/stm32f1\n",
      "\"make\" -C /home/jovyan/work/iot-lab-training/riot/RIOT/cpu/cortexm_common\n",
      "\"make\" -C /home/jovyan/work/iot-lab-training/riot/RIOT/cpu/cortexm_common/periph\n",
      "\"make\" -C /home/jovyan/work/iot-lab-training/riot/RIOT/cpu/stm32_common\n",
      "\"make\" -C /home/jovyan/work/iot-lab-training/riot/RIOT/cpu/stm32_common/periph\n",
      "\"make\" -C /home/jovyan/work/iot-lab-training/riot/RIOT/cpu/stm32f1/periph\n",
      "\"make\" -C /home/jovyan/work/iot-lab-training/riot/RIOT/drivers\n",
      "\"make\" -C /home/jovyan/work/iot-lab-training/riot/RIOT/drivers/periph_common\n",
      "\"make\" -C /home/jovyan/work/iot-lab-training/riot/RIOT/sys\n",
      "\"make\" -C /home/jovyan/work/iot-lab-training/riot/RIOT/sys/auto_init\n",
      "\"make\" -C /home/jovyan/work/iot-lab-training/riot/RIOT/sys/div\n",
      "\"make\" -C /home/jovyan/work/iot-lab-training/riot/RIOT/sys/newlib_syscalls_default\n",
      "\"make\" -C /home/jovyan/work/iot-lab-training/riot/RIOT/sys/pm_layered\n",
      "\"make\" -C /home/jovyan/work/iot-lab-training/riot/RIOT/sys/stdio_uart\n",
      "\"make\" -C /home/jovyan/work/iot-lab-training/riot/RIOT/sys/xtimer\n",
      "   text\t   data\t    bss\t    dec\t    hex\tfilename\n",
      "   8372\t    120\t   2596\t  11088\t   2b50\t/home/jovyan/work/iot-lab-training/riot/basics/hello-world/bin/iotlab-m3/hello-world.elf\n",
      "iotlab-node --jmespath='keys(@)[0]' --format='int'  --list grenoble,m3,95 --flash /home/jovyan/work/iot-lab-training/riot/basics/hello-world/bin/iotlab-m3/hello-world.bin | grep 0\n",
      "0\n"
     ]
    }
   ],
   "source": [
    "!make BOARD=iotlab-m3 IOTLAB_NODE=auto-ssh flash"
   ]
  },
  {
   "cell_type": "markdown",
   "metadata": {},
   "source": [
    "### Free up the resources\n",
    "\n",
    "Since you finished the training, stop your experiment to free up the experiment nodes:"
   ]
  },
  {
   "cell_type": "code",
   "execution_count": 1,
   "metadata": {},
   "outputs": [
    {
     "name": "stdout",
     "output_type": "stream",
     "text": [
      "usage: iotlab-experiment [-h] [-u USERNAME] [-p PASSWORD] [-v]\n",
      "                         [--jmespath JMESPATH] [--format FORMAT]\n",
      "                         {submit,script,stop,get,load,reload,info,wait} ...\n",
      "iotlab-experiment: error: You have no 'Running' experiment\n"
     ]
    }
   ],
   "source": [
    "!iotlab-experiment stop"
   ]
  },
  {
   "cell_type": "markdown",
   "metadata": {},
   "source": [
    "The serial link connection through SSH will be closed automatically."
   ]
  }
 ],
 "metadata": {
  "kernelspec": {
   "display_name": "Python 3",
   "language": "python",
   "name": "python3"
  },
  "language_info": {
   "codemirror_mode": {
    "name": "ipython",
    "version": 3
   },
   "file_extension": ".py",
   "mimetype": "text/x-python",
   "name": "python",
   "nbconvert_exporter": "python",
   "pygments_lexer": "ipython3",
   "version": "3.7.6"
  }
 },
 "nbformat": 4,
 "nbformat_minor": 4
}
