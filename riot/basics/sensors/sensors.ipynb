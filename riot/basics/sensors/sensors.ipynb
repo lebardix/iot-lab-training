{
 "cells": [
  {
   "cell_type": "markdown",
   "metadata": {},
   "source": [
    "## Use sensors on the IoT-LAB M3 board\n",
    "\n",
    "The IoT-LAB M3 board provides several sensors:\n",
    "- lps331ap: a temperature and atmospheric pressure sensor\n",
    "- l3g4200d: a gyroscope\n",
    "- lsm303dlhc: an accelerometer and magnetometer\n",
    "- isl29020: a light sensor\n",
    "\n",
    "In this exercise, we propose to read and display the values of the lps331ap and lsm303dlhc sensors using RIOT available high-level drivers.\n",
    "\n",
    "The lps331ap values will be read and displayed from the main thread every 2 seconds and the lsm303dlhc values will be read and displayed from a separate thread every 500ms.\n",
    "\n",
    "### Submit an experiment on IoT-LAB\n",
    "\n",
    "1. Choose your site (grenoble|lille|strasbourg):"
   ]
  },
  {
   "cell_type": "code",
   "execution_count": 17,
   "metadata": {},
   "outputs": [
    {
     "name": "stdout",
     "output_type": "stream",
     "text": [
      "env: SITE=grenoble\n"
     ]
    }
   ],
   "source": [
    "%env SITE=grenoble"
   ]
  },
  {
   "cell_type": "markdown",
   "metadata": {},
   "source": [
    "2. Submit an experiment using the following command:"
   ]
  },
  {
   "cell_type": "code",
   "execution_count": 18,
   "metadata": {},
   "outputs": [
    {
     "name": "stdout",
     "output_type": "stream",
     "text": [
      "{\n",
      "    \"id\": 200404\n",
      "}\n"
     ]
    }
   ],
   "source": [
    "!iotlab-experiment submit -n \"riot-sensors\" -d 60 -l 1,archi=m3:at86rf231+site=$SITE"
   ]
  },
  {
   "cell_type": "markdown",
   "metadata": {},
   "source": [
    "3. Wait for the experiment to be in the Running state:"
   ]
  },
  {
   "cell_type": "code",
   "execution_count": 19,
   "metadata": {},
   "outputs": [
    {
     "name": "stdout",
     "output_type": "stream",
     "text": [
      "Waiting that experiment 200404 gets in state Running\n",
      "\"Running\"\n"
     ]
    }
   ],
   "source": [
    "!iotlab-experiment wait --timeout 30 --cancel-on-timeout"
   ]
  },
  {
   "cell_type": "markdown",
   "metadata": {},
   "source": [
    "**Note:** If the command above returns the message `Timeout reached, cancelling experiment <exp_id>`, try to re-submit your experiment later or try on another site."
   ]
  },
  {
   "cell_type": "markdown",
   "metadata": {},
   "source": [
    "4. Get the experiment nodes list:"
   ]
  },
  {
   "cell_type": "code",
   "execution_count": 20,
   "metadata": {},
   "outputs": [
    {
     "name": "stdout",
     "output_type": "stream",
     "text": [
      "{\n",
      "    \"items\": [\n",
      "        {\n",
      "            \"archi\": \"m3:at86rf231\",\n",
      "            \"camera\": null,\n",
      "            \"mobile\": \"0\",\n",
      "            \"mobility_type\": \" \",\n",
      "            \"network_address\": \"m3-96.grenoble.iot-lab.info\",\n",
      "            \"production\": \"YES\",\n",
      "            \"site\": \"grenoble\",\n",
      "            \"state\": \"Alive\",\n",
      "            \"uid\": \"b468\",\n",
      "            \"x\": \"1.00\",\n",
      "            \"y\": \"26.52\",\n",
      "            \"z\": \"-0.04\"\n",
      "        }\n",
      "    ]\n",
      "}\n"
     ]
    }
   ],
   "source": [
    "!iotlab-experiment get --nodes"
   ]
  },
  {
   "cell_type": "markdown",
   "metadata": {},
   "source": [
    "### Read the lps331ap sensor\n",
    "\n",
    "To read the lps331ap sensor, use the lps331ap module driver.\n",
    "\n",
    "1. In the application `Makefile`, add the lps331ap module to the build:\n",
    "\n",
    "```Makefile\n",
    "USEMODULE += lps331ap\n",
    "```\n",
    "\n",
    "2. In the `main.c`, add the necessary includes for this driver:\n",
    "\n",
    "```c\n",
    "#include \"lpsxxx.h\"\n",
    "#include \"lpsxxx_params.h\"\n",
    "```\n",
    "\n",
    "**Note:** The files, device descriptor type and function names start with `lpsxxx` because this driver is generic and also works with the lps25hb and lps22hb variants.\n",
    "\n",
    "3. Declare the device descriptor variable:\n",
    "\n",
    "```c\n",
    "static lpsxxx_t lpsxxx;\n",
    "```\n",
    "\n",
    "4. In the main function, initialize the driver:\n",
    "\n",
    "```c\n",
    "lpsxxx_init(&lpsxxx, &lpsxxx_params[0]);\n",
    "```\n",
    "\n",
    "5. Read the temperature and pressure values every 2 seconds in an endless loop before the main function returns:\n",
    "\n",
    "```c\n",
    "    while (1) {\n",
    "        uint16_t pres = 0;\n",
    "        int16_t temp = 0;\n",
    "        lpsxxx_read_temp(&lpsxxx, &temp);\n",
    "        lpsxxx_read_pres(&lpsxxx, &pres);\n",
    "        printf(\"Pressure: %uhPa, Temperature: %u.%u°C\\n\",\n",
    "               pres, (temp / 100), (temp % 100));\n",
    "        xtimer_sleep(2);\n",
    "    }\n",
    "```\n",
    "\n",
    "6. Build and flash the application:"
   ]
  },
  {
   "cell_type": "code",
   "execution_count": 31,
   "metadata": {},
   "outputs": [
    {
     "name": "stdout",
     "output_type": "stream",
     "text": [
      "\u001b[1;32mBuilding application \"sensors\" for \"iotlab-m3\" with MCU \"stm32f1\".\u001b[0m\n",
      "\n",
      "\"make\" -C /home/jovyan/work/iot-lab-training/riot/RIOT/boards/iotlab-m3\n",
      "\"make\" -C /home/jovyan/work/iot-lab-training/riot/RIOT/boards/common/iotlab\n",
      "\"make\" -C /home/jovyan/work/iot-lab-training/riot/RIOT/core\n",
      "\"make\" -C /home/jovyan/work/iot-lab-training/riot/RIOT/cpu/stm32f1\n",
      "\"make\" -C /home/jovyan/work/iot-lab-training/riot/RIOT/cpu/cortexm_common\n",
      "\"make\" -C /home/jovyan/work/iot-lab-training/riot/RIOT/cpu/cortexm_common/periph\n",
      "\"make\" -C /home/jovyan/work/iot-lab-training/riot/RIOT/cpu/stm32_common\n",
      "\"make\" -C /home/jovyan/work/iot-lab-training/riot/RIOT/cpu/stm32_common/periph\n",
      "\"make\" -C /home/jovyan/work/iot-lab-training/riot/RIOT/cpu/stm32f1/periph\n",
      "\"make\" -C /home/jovyan/work/iot-lab-training/riot/RIOT/drivers\n",
      "\"make\" -C /home/jovyan/work/iot-lab-training/riot/RIOT/drivers/isl29020\n",
      "\"make\" -C /home/jovyan/work/iot-lab-training/riot/RIOT/drivers/l3g4200d\n",
      "\"make\" -C /home/jovyan/work/iot-lab-training/riot/RIOT/drivers/lpsxxx\n",
      "\"make\" -C /home/jovyan/work/iot-lab-training/riot/RIOT/drivers/lsm303dlhc\n",
      "\"make\" -C /home/jovyan/work/iot-lab-training/riot/RIOT/drivers/periph_common\n",
      "\"make\" -C /home/jovyan/work/iot-lab-training/riot/RIOT/sys\n",
      "\"make\" -C /home/jovyan/work/iot-lab-training/riot/RIOT/sys/auto_init\n",
      "\"make\" -C /home/jovyan/work/iot-lab-training/riot/RIOT/sys/div\n",
      "\"make\" -C /home/jovyan/work/iot-lab-training/riot/RIOT/sys/newlib_syscalls_default\n",
      "\"make\" -C /home/jovyan/work/iot-lab-training/riot/RIOT/sys/pm_layered\n",
      "\"make\" -C /home/jovyan/work/iot-lab-training/riot/RIOT/sys/stdio_uart\n",
      "\"make\" -C /home/jovyan/work/iot-lab-training/riot/RIOT/sys/xtimer\n",
      "   text\t   data\t    bss\t    dec\t    hex\tfilename\n",
      "  13216\t    120\t   7284\t  20620\t   508c\t/home/jovyan/work/iot-lab-training/riot/basics/sensors/bin/iotlab-m3/sensors.elf\n",
      "iotlab-node --jmespath='keys(@)[0]' --format='int'  --list grenoble,m3,96 --flash /home/jovyan/work/iot-lab-training/riot/basics/sensors/bin/iotlab-m3/sensors.bin | grep 0\n",
      "0\n"
     ]
    }
   ],
   "source": [
    "!make IOTLAB_NODE=auto-ssh flash"
   ]
  },
  {
   "cell_type": "markdown",
   "metadata": {},
   "source": [
    "Open a Jupyter terminal (use `File > New > Terminal`) and connect to the serial port of the IoT-LAB M3 and observe the value displayed every 2 seconds:"
   ]
  },
  {
   "cell_type": "code",
   "execution_count": null,
   "metadata": {},
   "outputs": [],
   "source": [
    "make IOTLAB_NODE=auto-ssh -C riot/basics/sensors term"
   ]
  },
  {
   "cell_type": "markdown",
   "metadata": {},
   "source": [
    "Keep the terminal open until you complete the next section.\n",
    "\n",
    "### Read the lsm303dlhc sensor\n",
    "\n",
    "To read the lsm303dlhc sensor, use the lsm303dlhc module driver. In this part of the exercise, the driver is read from a separate background thread.\n",
    "\n",
    "1. In the application `Makefile`, add the lsm303dlhc module to the build:\n",
    "\n",
    "```Makefile\n",
    "USEMODULE += lsm303dlhc\n",
    "```\n",
    "\n",
    "2. In the `main.c`, add the necessary includes for this driver:\n",
    "\n",
    "```c\n",
    "#include \"lsm303dlhc.h\"\n",
    "#include \"lsm303dlhc_params.h\"\n",
    "```\n",
    "\n",
    "3. Declare the device descriptor variable:\n",
    "\n",
    "```c\n",
    "static lsm303dlhc_t lsm303dlhc;\n",
    "```\n",
    "\n",
    "4. In the main function, initialize the driver:\n",
    "\n",
    "```c\n",
    "lsm303dlhc_init(&lsm303dlhc, lsm303dlhc_params);\n",
    "```\n",
    "\n",
    "5. Read the accelerometer and magnetometer values every 500ms in an endless loop in the thread handler function:\n",
    "\n",
    "```c\n",
    "    while (1) {\n",
    "        lsm303dlhc_3d_data_t mag_value;\n",
    "        lsm303dlhc_3d_data_t acc_value;\n",
    "        lsm303dlhc_read_acc(&lsm303dlhc, &acc_value);\n",
    "        printf(\"Accelerometer x: %i y: %i z: %i\\n\",\n",
    "               acc_value.x_axis, acc_value.y_axis, acc_value.z_axis);\n",
    "        lsm303dlhc_read_mag(&lsm303dlhc, &mag_value);\n",
    "        printf(\"Magnetometer x: %i y: %i z: %i\\n\",\n",
    "               mag_value.x_axis, mag_value.y_axis, mag_value.z_axis);\n",
    "        xtimer_usleep(500 * US_PER_MS);\n",
    "    }\n",
    "```\n",
    "\n",
    "6. Build and flash the application:"
   ]
  },
  {
   "cell_type": "code",
   "execution_count": 14,
   "metadata": {},
   "outputs": [
    {
     "name": "stdout",
     "output_type": "stream",
     "text": [
      "\u001b[1;32mBuilding application \"sensors\" for \"iotlab-m3\" with MCU \"stm32f1\".\u001b[0m\n",
      "\n",
      "\"make\" -C /home/jovyan/work/iot-lab-training/riot/RIOT/boards/iotlab-m3\n",
      "\"make\" -C /home/jovyan/work/iot-lab-training/riot/RIOT/boards/common/iotlab\n",
      "\"make\" -C /home/jovyan/work/iot-lab-training/riot/RIOT/core\n",
      "\"make\" -C /home/jovyan/work/iot-lab-training/riot/RIOT/cpu/stm32f1\n",
      "\"make\" -C /home/jovyan/work/iot-lab-training/riot/RIOT/cpu/cortexm_common\n",
      "\"make\" -C /home/jovyan/work/iot-lab-training/riot/RIOT/cpu/cortexm_common/periph\n",
      "\"make\" -C /home/jovyan/work/iot-lab-training/riot/RIOT/cpu/stm32_common\n",
      "\"make\" -C /home/jovyan/work/iot-lab-training/riot/RIOT/cpu/stm32_common/periph\n",
      "\"make\" -C /home/jovyan/work/iot-lab-training/riot/RIOT/cpu/stm32f1/periph\n",
      "\"make\" -C /home/jovyan/work/iot-lab-training/riot/RIOT/drivers\n",
      "\"make\" -C /home/jovyan/work/iot-lab-training/riot/RIOT/drivers/isl29020\n",
      "\"make\" -C /home/jovyan/work/iot-lab-training/riot/RIOT/drivers/l3g4200d\n",
      "\"make\" -C /home/jovyan/work/iot-lab-training/riot/RIOT/drivers/lpsxxx\n",
      "\"make\" -C /home/jovyan/work/iot-lab-training/riot/RIOT/drivers/lsm303dlhc\n",
      "\"make\" -C /home/jovyan/work/iot-lab-training/riot/RIOT/drivers/periph_common\n",
      "\"make\" -C /home/jovyan/work/iot-lab-training/riot/RIOT/sys\n",
      "\"make\" -C /home/jovyan/work/iot-lab-training/riot/RIOT/sys/auto_init\n",
      "\"make\" -C /home/jovyan/work/iot-lab-training/riot/RIOT/sys/div\n",
      "\"make\" -C /home/jovyan/work/iot-lab-training/riot/RIOT/sys/newlib_syscalls_default\n",
      "\"make\" -C /home/jovyan/work/iot-lab-training/riot/RIOT/sys/pm_layered\n",
      "\"make\" -C /home/jovyan/work/iot-lab-training/riot/RIOT/sys/stdio_uart\n",
      "\"make\" -C /home/jovyan/work/iot-lab-training/riot/RIOT/sys/xtimer\n",
      "   text\t   data\t    bss\t    dec\t    hex\tfilename\n",
      "  12596\t    120\t   5716\t  18432\t   4800\t/home/jovyan/work/iot-lab-training/riot/basics/sensors/bin/iotlab-m3/sensors.elf\n",
      "iotlab-node --jmespath='keys(@)[0]' --format='int'  --list grenoble,m3,95 --flash /home/jovyan/work/iot-lab-training/riot/basics/sensors/bin/iotlab-m3/sensors.bin | grep 0\n",
      "0\n"
     ]
    }
   ],
   "source": [
    "!make IOTLAB_NODE=auto-ssh flash"
   ]
  },
  {
   "cell_type": "markdown",
   "metadata": {},
   "source": [
    "If you kept the serial output opened in the terminal, you should now get the temperature, pressure, accelerometer and magnetometer values displayed at different rates.\n",
    "\n",
    "### Going further\n",
    "\n",
    "As said in the beginning of this Notebook, the IoT-LAB M3 boards provides 4 sensors and for the moment, we only use 2 of them\n",
    "\n",
    "In this section, we propose that you extend the `main` function with some code to read and print the light value measured by the `isl29020` sensor and the gyroscope values measured by the `l3g4200d`.\n",
    "\n",
    "To help you with the APIs usage of the corresponding drivers, you can have a look at the following resources:\n",
    "- [isl29020 API online documentation](http://doc.riot-os.org/group__drivers__isl29020.html)\n",
    "- The [isl2920 test application code](https://github.com/RIOT-OS/RIOT/tree/master/tests/driver_isl29020) can also be useful\n",
    "- [l3g4200d API online documentation](http://doc.riot-os.org/group__drivers__l3g4200d.html)\n",
    "- The [l3g4200d test application code](https://github.com/RIOT-OS/RIOT/tree/master/tests/driver_l3g4200d) can also be useful\n",
    "\n",
    "Once done, you can rebuild and flash your application."
   ]
  },
  {
   "cell_type": "code",
   "execution_count": null,
   "metadata": {},
   "outputs": [],
   "source": [
    "!make IOTLAB_NODE=auto-ssh flash"
   ]
  },
  {
   "cell_type": "markdown",
   "metadata": {},
   "source": [
    "**Note:** If your experiment is already stopped, you can submit another one as explained in the \"Submit an experiment on IoT-LAB\" section."
   ]
  },
  {
   "cell_type": "markdown",
   "metadata": {},
   "source": [
    "### Free up the resources\n",
    "\n",
    "Since you finished the training, stop your experiment to free up the experiment nodes:"
   ]
  },
  {
   "cell_type": "code",
   "execution_count": 43,
   "metadata": {},
   "outputs": [
    {
     "name": "stdout",
     "output_type": "stream",
     "text": [
      "make: *** riot/basics/sensors: No such file or directory.  Stop.\n"
     ]
    }
   ],
   "source": [
    "!make IOTLAB_NODE=auto-ssh -C riot/basics/sensors term"
   ]
  },
  {
   "cell_type": "markdown",
   "metadata": {},
   "source": [
    "test compile avec gyr et light"
   ]
  },
  {
   "cell_type": "code",
   "execution_count": 44,
   "metadata": {},
   "outputs": [
    {
     "name": "stdout",
     "output_type": "stream",
     "text": [
      "{\n",
      "    \"id\": 200049,\n",
      "    \"status\": \"Delete request registered\"\n",
      "}\n"
     ]
    }
   ],
   "source": [
    "!iotlab-experiment stop"
   ]
  },
  {
   "cell_type": "markdown",
   "metadata": {},
   "source": [
    "The serial link connection through SSH will be closed automatically."
   ]
  }
 ],
 "metadata": {
  "kernelspec": {
   "display_name": "Python 3",
   "language": "python",
   "name": "python3"
  },
  "language_info": {
   "codemirror_mode": {
    "name": "ipython",
    "version": 3
   },
   "file_extension": ".py",
   "mimetype": "text/x-python",
   "name": "python",
   "nbconvert_exporter": "python",
   "pygments_lexer": "ipython3",
   "version": "3.7.6"
  }
 },
 "nbformat": 4,
 "nbformat_minor": 4
}
