{
 "cells": [
  {
   "cell_type": "markdown",
   "metadata": {},
   "source": [
    "## Timers\n",
    "\n",
    "In this exercise, you will use timers to add delays between messages displayed in the terminal.\n",
    "The messages will be continuously printed from the main thread and from a second thread.\n",
    "\n",
    "In RIOT, the `xtimer` module allows for multiplexing several timer contexts on top of a single hardware timer. With the `xtimer` module, it is then possible to manage several virtual timers from a single timer.\n",
    "\n",
    "### Print messages from the main thread\n",
    "\n",
    "Let's start by printing a message from the main thread every 500ms.\n",
    "\n",
    "1. In the application Makefile, add the necessary xtimer module:\n",
    "\n",
    "```make\n",
    "USEMODULE += xtimer\n",
    "```\n",
    "\n",
    "2. In the main.c file, include the `xtimer.h` necessary header, below the `thread.h` include:\n",
    "\n",
    "```c\n",
    "#include \"xtimer.h\"\n",
    "```\n",
    "\n",
    "3. In the main function, just before `return 0`, add an endless loop that prints a message every 500ms, as follows:\n",
    "\n",
    "```c\n",
    "    int counter = 0;\n",
    "    while (1) {\n",
    "        counter++;\n",
    "        printf(\"Message %d from main thread\\n\", counter);\n",
    "        \n",
    "        /* add 500ms delay */\n",
    "        xtimer_usleep(500 * US_PER_MS);\n",
    "    }\n",
    "```\n",
    "\n",
    "4. Open a Jupyter terminal (use `File > New > Terminal`) and test your application on native:"
   ]
  },
  {
   "cell_type": "raw",
   "metadata": {},
   "source": [
    "make -C riot/basics/timers all term"
   ]
  },
  {
   "cell_type": "markdown",
   "metadata": {},
   "source": [
    "### Print messages from a separate thread\n",
    "\n",
    "Create a thread that will print the message `Message <i> from thread <thread name>` every second.\n",
    "\n",
    "1. Create the thread in the `main` function:\n",
    "\n",
    "```c\n",
    "thread_create(stack, sizeof(stack), THREAD_PRIORITY_MAIN - 1,\n",
    "               0, thread_handler, \"my thread\", \"thread\");\n",
    "```\n",
    "\n",
    "Note that we set an argument containing a string. We will use this string in the message displayed by the thread.\n",
    "\n",
    "2. Implement the thread handler function as follows:\n",
    "\n",
    "```c\n",
    "static char stack[THREAD_STACKSIZE_MAIN];\n",
    "static void *thread_handler(void *arg)\n",
    "{\n",
    "    int counter = 0;\n",
    "    \n",
    "    while (1) {\n",
    "        counter++;\n",
    "        printf(\"Message %d from thread '%s'\\n\", counter, (char *)arg);\n",
    "        /* Wait one second */\n",
    "        xtimer_sleep(1);\n",
    "    }\n",
    "    \n",
    "    return NULL;\n",
    "}\n",
    "```\n",
    "\n",
    "3. In the terminal on the right, test your application on native:"
   ]
  },
  {
   "cell_type": "raw",
   "metadata": {},
   "source": [
    "make -C riot/basics/timers all term"
   ]
  }
 ],
 "metadata": {
  "kernelspec": {
   "display_name": "Python 3",
   "language": "python",
   "name": "python3"
  },
  "language_info": {
   "codemirror_mode": {
    "name": "ipython",
    "version": 3
   },
   "file_extension": ".py",
   "mimetype": "text/x-python",
   "name": "python",
   "nbconvert_exporter": "python",
   "pygments_lexer": "ipython3",
   "version": "3.7.6"
  }
 },
 "nbformat": 4,
 "nbformat_minor": 4
}
