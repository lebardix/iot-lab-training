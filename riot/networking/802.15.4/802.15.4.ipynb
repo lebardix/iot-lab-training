{
 "cells": [
  {
   "cell_type": "markdown",
   "metadata": {},
   "source": [
    "## Discover 802.15.4\n",
    "\n",
    "#### Radio settings\n",
    "\n",
    "If you are running this training at the same time as other people on the testbed, it is a good idea to change the default radio configuration to avoid too much collision with others.\n",
    "\n",
    "Use the following cell to give you random values for channel and PAN ID."
   ]
  },
  {
   "cell_type": "code",
   "execution_count": 1,
   "metadata": {},
   "outputs": [
    {
     "name": "stdout",
     "output_type": "stream",
     "text": [
      "Use CHANNEL=26, PAN_ID=0xe86f\n"
     ]
    }
   ],
   "source": [
    "import os,binascii,random\n",
    "pan_id = binascii.b2a_hex(os.urandom(2)).decode()\n",
    "channel = random.randint(11, 26)\n",
    "print('Use CHANNEL={}, PAN_ID=0x{}'.format(channel, pan_id))"
   ]
  },
  {
   "cell_type": "markdown",
   "metadata": {},
   "source": [
    "For these values to be taken into account you can set an environment variable for the notebook. Modify the values in the cell below with those obtained and execute it."
   ]
  },
  {
   "cell_type": "code",
   "execution_count": 2,
   "metadata": {},
   "outputs": [
    {
     "name": "stdout",
     "output_type": "stream",
     "text": [
      "env: CHANNEL=26\n"
     ]
    }
   ],
   "source": [
    "%env CHANNEL=26"
   ]
  },
  {
   "cell_type": "code",
   "execution_count": 3,
   "metadata": {},
   "outputs": [
    {
     "name": "stdout",
     "output_type": "stream",
     "text": [
      "env: PAN_ID=0xE86F\n"
     ]
    }
   ],
   "source": [
    "%env PAN_ID=0xE86F"
   ]
  },
  {
   "cell_type": "markdown",
   "metadata": {},
   "source": [
    "### Compile the RIOT firmware\n",
    "\n",
    "Here you will use the `default` example from RIOT.\n",
    "\n",
    "Let's define a environment variable to shorten the command lines."
   ]
  },
  {
   "cell_type": "code",
   "execution_count": 1,
   "metadata": {},
   "outputs": [
    {
     "name": "stdout",
     "output_type": "stream",
     "text": [
      "env: APP_DIR=../../RIOT/examples/default\n"
     ]
    }
   ],
   "source": [
    "%env APP_DIR = ../../RIOT/examples/default"
   ]
  },
  {
   "cell_type": "markdown",
   "metadata": {},
   "source": [
    "Compile the example:"
   ]
  },
  {
   "cell_type": "code",
   "execution_count": 2,
   "metadata": {},
   "outputs": [
    {
     "name": "stdout",
     "output_type": "stream",
     "text": [
      "make: Entering directory '/home/jovyan/work/iot-lab-training/riot/RIOT/examples/default'\n",
      "\u001b[1;32mBuilding application \"default\" for \"iotlab-m3\" with MCU \"stm32f1\".\u001b[0m\n",
      "\n",
      "\"make\" -C /home/jovyan/work/iot-lab-training/riot/RIOT/boards/iotlab-m3\n",
      "\"make\" -C /home/jovyan/work/iot-lab-training/riot/RIOT/boards/common/iotlab\n",
      "\"make\" -C /home/jovyan/work/iot-lab-training/riot/RIOT/core\n",
      "\"make\" -C /home/jovyan/work/iot-lab-training/riot/RIOT/cpu/stm32f1\n",
      "\"make\" -C /home/jovyan/work/iot-lab-training/riot/RIOT/cpu/cortexm_common\n",
      "\"make\" -C /home/jovyan/work/iot-lab-training/riot/RIOT/cpu/cortexm_common/periph\n",
      "\"make\" -C /home/jovyan/work/iot-lab-training/riot/RIOT/cpu/stm32_common\n",
      "\"make\" -C /home/jovyan/work/iot-lab-training/riot/RIOT/cpu/stm32_common/periph\n",
      "\"make\" -C /home/jovyan/work/iot-lab-training/riot/RIOT/cpu/stm32f1/periph\n",
      "\"make\" -C /home/jovyan/work/iot-lab-training/riot/RIOT/drivers\n",
      "\"make\" -C /home/jovyan/work/iot-lab-training/riot/RIOT/drivers/at86rf2xx\n",
      "\"make\" -C /home/jovyan/work/iot-lab-training/riot/RIOT/drivers/isl29020\n",
      "\"make\" -C /home/jovyan/work/iot-lab-training/riot/RIOT/drivers/l3g4200d\n",
      "\"make\" -C /home/jovyan/work/iot-lab-training/riot/RIOT/drivers/lpsxxx\n",
      "\"make\" -C /home/jovyan/work/iot-lab-training/riot/RIOT/drivers/lsm303dlhc\n",
      "\"make\" -C /home/jovyan/work/iot-lab-training/riot/RIOT/drivers/netdev_ieee802154\n",
      "\"make\" -C /home/jovyan/work/iot-lab-training/riot/RIOT/drivers/periph_common\n",
      "\"make\" -C /home/jovyan/work/iot-lab-training/riot/RIOT/drivers/saul\n",
      "\"make\" -C /home/jovyan/work/iot-lab-training/riot/RIOT/sys\n",
      "\"make\" -C /home/jovyan/work/iot-lab-training/riot/RIOT/sys/auto_init\n",
      "\"make\" -C /home/jovyan/work/iot-lab-training/riot/RIOT/sys/auto_init/netif\n",
      "\"make\" -C /home/jovyan/work/iot-lab-training/riot/RIOT/sys/auto_init/saul\n",
      "\"make\" -C /home/jovyan/work/iot-lab-training/riot/RIOT/sys/div\n",
      "\"make\" -C /home/jovyan/work/iot-lab-training/riot/RIOT/sys/fmt\n",
      "\"make\" -C /home/jovyan/work/iot-lab-training/riot/RIOT/sys/isrpipe\n",
      "\"make\" -C /home/jovyan/work/iot-lab-training/riot/RIOT/sys/luid\n",
      "\"make\" -C /home/jovyan/work/iot-lab-training/riot/RIOT/sys/net/gnrc\n",
      "\"make\" -C /home/jovyan/work/iot-lab-training/riot/RIOT/sys/net/gnrc/netapi\n",
      "\"make\" -C /home/jovyan/work/iot-lab-training/riot/RIOT/sys/net/gnrc/netif\n",
      "\"make\" -C /home/jovyan/work/iot-lab-training/riot/RIOT/sys/net/gnrc/netif/hdr\n",
      "\"make\" -C /home/jovyan/work/iot-lab-training/riot/RIOT/sys/net/gnrc/netif/ieee802154\n",
      "\"make\" -C /home/jovyan/work/iot-lab-training/riot/RIOT/sys/net/gnrc/netreg\n",
      "\"make\" -C /home/jovyan/work/iot-lab-training/riot/RIOT/sys/net/gnrc/pkt\n",
      "\"make\" -C /home/jovyan/work/iot-lab-training/riot/RIOT/sys/net/gnrc/pktbuf\n",
      "\"make\" -C /home/jovyan/work/iot-lab-training/riot/RIOT/sys/net/gnrc/pktbuf_static\n",
      "\"make\" -C /home/jovyan/work/iot-lab-training/riot/RIOT/sys/net/gnrc/pktdump\n",
      "\"make\" -C /home/jovyan/work/iot-lab-training/riot/RIOT/sys/net/link_layer/ieee802154\n",
      "\"make\" -C /home/jovyan/work/iot-lab-training/riot/RIOT/sys/net/link_layer/l2util\n",
      "\"make\" -C /home/jovyan/work/iot-lab-training/riot/RIOT/sys/net/netif\n",
      "\"make\" -C /home/jovyan/work/iot-lab-training/riot/RIOT/sys/newlib_syscalls_default\n",
      "\"make\" -C /home/jovyan/work/iot-lab-training/riot/RIOT/sys/od\n",
      "\"make\" -C /home/jovyan/work/iot-lab-training/riot/RIOT/sys/phydat\n",
      "\"make\" -C /home/jovyan/work/iot-lab-training/riot/RIOT/sys/pm_layered\n",
      "\"make\" -C /home/jovyan/work/iot-lab-training/riot/RIOT/sys/ps\n",
      "\"make\" -C /home/jovyan/work/iot-lab-training/riot/RIOT/sys/random\n",
      "\"make\" -C /home/jovyan/work/iot-lab-training/riot/RIOT/sys/random/tinymt32\n",
      "\"make\" -C /home/jovyan/work/iot-lab-training/riot/RIOT/sys/saul_reg\n",
      "\"make\" -C /home/jovyan/work/iot-lab-training/riot/RIOT/sys/shell\n",
      "\"make\" -C /home/jovyan/work/iot-lab-training/riot/RIOT/sys/shell/commands\n",
      "\"make\" -C /home/jovyan/work/iot-lab-training/riot/RIOT/sys/stdio_uart\n",
      "\"make\" -C /home/jovyan/work/iot-lab-training/riot/RIOT/sys/tsrb\n",
      "\"make\" -C /home/jovyan/work/iot-lab-training/riot/RIOT/sys/xtimer\n",
      "   text\t   data\t    bss\t    dec\t    hex\tfilename\n",
      "  49788\t    604\t   6292\t  56684\t   dd6c\t/home/jovyan/work/iot-lab-training/riot/RIOT/examples/default/bin/iotlab-m3/default.elf\n",
      "make: Leaving directory '/home/jovyan/work/iot-lab-training/riot/RIOT/examples/default'\n"
     ]
    }
   ],
   "source": [
    "!make -C $APP_DIR BOARD=iotlab-m3 DEFAULT_CHANNEL=$CHANNEL DEFAULT_PAN_ID=$PAN_ID"
   ]
  },
  {
   "cell_type": "markdown",
   "metadata": {},
   "source": [
    "### Submit an experiment on IoT-LAB\n",
    "\n",
    "1. Choose your site (grenoble|lille|strasbourg|...):"
   ]
  },
  {
   "cell_type": "code",
   "execution_count": 6,
   "metadata": {},
   "outputs": [
    {
     "name": "stdout",
     "output_type": "stream",
     "text": [
      "env: SITE=grenoble\n"
     ]
    }
   ],
   "source": [
    "%env SITE = grenoble"
   ]
  },
  {
   "cell_type": "markdown",
   "metadata": {},
   "source": [
    "2. Submit an experiment with three nodes and the compiled firware:"
   ]
  },
  {
   "cell_type": "code",
   "execution_count": 7,
   "metadata": {},
   "outputs": [
    {
     "name": "stdout",
     "output_type": "stream",
     "text": [
      "{\n",
      "    \"id\": 199005\n",
      "}\n"
     ]
    }
   ],
   "source": [
    "!iotlab-experiment submit -d 60 -l 3,archi=m3:at86rf231+site=$SITE,$APP_DIR/bin/iotlab-m3/default.elf"
   ]
  },
  {
   "cell_type": "markdown",
   "metadata": {},
   "source": [
    "3. Wait for the experiment to be in the Running state:"
   ]
  },
  {
   "cell_type": "code",
   "execution_count": 8,
   "metadata": {},
   "outputs": [
    {
     "name": "stdout",
     "output_type": "stream",
     "text": [
      "Waiting that experiment 199005 gets in state Running\n",
      "\"Running\"\n"
     ]
    }
   ],
   "source": [
    "!iotlab-experiment wait --timeout 30 --cancel-on-timeout"
   ]
  },
  {
   "cell_type": "markdown",
   "metadata": {},
   "source": [
    "**Note:** If the command above returns the message `Timeout reached, cancelling experiment <exp_id>`, try to re-submit your experiment later or try on another site."
   ]
  },
  {
   "cell_type": "markdown",
   "metadata": {},
   "source": [
    "4. Check the nodes allocated to the experiment"
   ]
  },
  {
   "cell_type": "code",
   "execution_count": 9,
   "metadata": {},
   "outputs": [
    {
     "name": "stdout",
     "output_type": "stream",
     "text": [
      "{\n",
      "    \"items\": [\n",
      "        {\n",
      "            \"grenoble\": {\n",
      "                \"m3\": \"95-96+101\"\n",
      "            }\n",
      "        }\n",
      "    ]\n",
      "}\n"
     ]
    }
   ],
   "source": [
    "!iotlab-experiment get -ni"
   ]
  },
  {
   "cell_type": "markdown",
   "metadata": {},
   "source": [
    "From here you will interact with the nodes. To this end, you need to connect to node's serial link.\n",
    "\n",
    "5. For each of the three nodes open a Jupyter terminal (use `File > New > Terminal`), use the following command replacing `<id>` and `<site>` with the right values:"
   ]
  },
  {
   "cell_type": "raw",
   "metadata": {},
   "source": [
    "make -C riot/RIOT/examples/default BOARD=iotlab-m3 IOTLAB_NODE=m3-<id>.<site>.iot-lab.info term"
   ]
  },
  {
   "cell_type": "markdown",
   "metadata": {},
   "source": [
    "### Send radio packets\n",
    "\n",
    "1. Get the network config for each node (interface and address). "
   ]
  },
  {
   "cell_type": "raw",
   "metadata": {},
   "source": [
    "> ifconfig"
   ]
  },
  {
   "cell_type": "markdown",
   "metadata": {},
   "source": [
    "```\n",
    "ifconfig\n",
    "Iface  4  HWaddr: 5C:22  Channel: 26  Page: 0  NID: 0x23\n",
    "          Long HWaddr: 15:11:6B:10:65:FC:5C:22 \n",
    "           TX-Power: 0dBm  State: IDLE  max. Retrans.: 3  CSMA Retries: 4 \n",
    "          AUTOACK  ACK_REQ  CSMA  L2-PDU:102 Source address length: 2\n",
    "```"
   ]
  },
  {
   "cell_type": "markdown",
   "metadata": {},
   "source": [
    "  Here the node's radio interface (`Iface`) is _4_ and its long hardware address (`Long HWaddr`) is _15:11:6B:10:65:FC:5C:22_.\n",
    "\n",
    "The `txtsnd` shell command of RIOT let's you send a radio packet \n",
    "  ```\n",
    "  usage: txtsnd <if> [<L2 addr>|bcast] <data>\n",
    "  ```\n",
    "  - `<if>` is the network interface to use\n",
    "  - `[<L2 addr>|bcast]` allows to specify a destination network address to send the packet in unicast or _bcast_ to send the packet in broadcast\n",
    "  - `<data>` is the text message that will be contained in the payload\n",
    "\n",
    "2. Send a packet from the first node in broadcast, specifying the radio interface of the sender and the broadcast mode:"
   ]
  },
  {
   "cell_type": "raw",
   "metadata": {},
   "source": [
    "> txtsnd 4 bcast hello"
   ]
  },
  {
   "cell_type": "markdown",
   "metadata": {},
   "source": [
    "On the two other nodes terminals you should see that the radio packet has been received:\n",
    "```\n",
    "PKTDUMP: data received:\n",
    "~~ SNIP  0 - size:   5 byte, type: NETTYPE_UNDEF (0)\n",
    "00000000  68  65  6C  6C  6F\n",
    "~~ SNIP  1 - size:  12 byte, type: NETTYPE_NETIF (-1)\n",
    "if_pid: 4  rssi: -55  lqi: 255\n",
    "flags: BROADCAST \n",
    "src_l2addr: 5C:22\n",
    "dst_l2addr: FF:FF\n",
    "~~ PKT    -  2 snips, total size:  17 byte\n",
    "```\n",
    "What does this output tell you ?\n",
    "- SNIP 0 = payload = 5 bytes `68  65  6C  6C  6F` for 5 characters ['h','e','l','l','o']\n",
    "- SNIP 1 = header ?\n",
    "  - `if_pid: 4  rssi: -55  lqi: 255` gives radio network interface informations: Received Signal Strength Indication (RSSI) and  the Link Quality Indicator (LQI)\n",
    "  - `src_l2addr: 5C:22` gives the address of the sender\n",
    "  - `dst12_addr: FF:FF` is the broadcast destination address, which corresponds well to the `flags: BROADCAST`\n"
   ]
  },
  {
   "cell_type": "markdown",
   "metadata": {},
   "source": [
    "3. Send now a packet from the first node to the second. Specifying the radio interface of the sender and replace `<long_hwaddr>` with the address of the destination:"
   ]
  },
  {
   "cell_type": "raw",
   "metadata": {},
   "source": [
    "> txtsnd 4 <long_hwaddr> hello"
   ]
  },
  {
   "cell_type": "markdown",
   "metadata": {},
   "source": [
    "You should have a similar output in the destination node's terminal:\n",
    "```\n",
    "PKTDUMP: data received:\n",
    "~~ SNIP  0 - size:   5 byte, type: NETTYPE_UNDEF (0)\n",
    "00000000  68  65  6C  6C  6F\n",
    "~~ SNIP  1 - size:  12 byte, type: NETTYPE_NETIF (-1)\n",
    "if_pid: 4  rssi: -55  lqi: 255\n",
    "flags: 0x0\n",
    "src_l2addr: 5C:22\n",
    "dst_l2addr: 22:4A\n",
    "~~ PKT    -  2 snips, total size:  17 byte\n",
    "```\n",
    "\n",
    "- SNIP 0 remains the same since you send the same text message\n",
    "- SNIP 1 contains the destination address, which correspond well to the node's address whom print this output"
   ]
  },
  {
   "cell_type": "markdown",
   "metadata": {},
   "source": [
    "### Radio isolation\n",
    "\n",
    "1. Replace `<channel> <id>`by the right values. For `<channel>` you have to choose a value between 11 and 26 different from the one obtained at the beginning of the notebook in `Radio settings` section. After run the following cell to recompile the example and flash the third node of your experiment:"
   ]
  },
  {
   "cell_type": "code",
   "execution_count": 12,
   "metadata": {},
   "outputs": [
    {
     "name": "stdout",
     "output_type": "stream",
     "text": [
      "make: Entering directory '/home/jovyan/work/iot-lab-training/riot/RIOT/examples/default'\n",
      "\u001b[1;32mBuilding application \"default\" for \"iotlab-m3\" with MCU \"stm32f1\".\u001b[0m\n",
      "\n",
      "\"make\" -C /home/jovyan/work/iot-lab-training/riot/RIOT/boards/iotlab-m3\n",
      "\"make\" -C /home/jovyan/work/iot-lab-training/riot/RIOT/boards/common/iotlab\n",
      "\"make\" -C /home/jovyan/work/iot-lab-training/riot/RIOT/core\n",
      "\"make\" -C /home/jovyan/work/iot-lab-training/riot/RIOT/cpu/stm32f1\n",
      "\"make\" -C /home/jovyan/work/iot-lab-training/riot/RIOT/cpu/cortexm_common\n",
      "\"make\" -C /home/jovyan/work/iot-lab-training/riot/RIOT/cpu/cortexm_common/periph\n",
      "\"make\" -C /home/jovyan/work/iot-lab-training/riot/RIOT/cpu/stm32_common\n",
      "\"make\" -C /home/jovyan/work/iot-lab-training/riot/RIOT/cpu/stm32_common/periph\n",
      "\"make\" -C /home/jovyan/work/iot-lab-training/riot/RIOT/cpu/stm32f1/periph\n",
      "\"make\" -C /home/jovyan/work/iot-lab-training/riot/RIOT/drivers\n",
      "\"make\" -C /home/jovyan/work/iot-lab-training/riot/RIOT/drivers/at86rf2xx\n",
      "\"make\" -C /home/jovyan/work/iot-lab-training/riot/RIOT/drivers/isl29020\n",
      "\"make\" -C /home/jovyan/work/iot-lab-training/riot/RIOT/drivers/l3g4200d\n",
      "\"make\" -C /home/jovyan/work/iot-lab-training/riot/RIOT/drivers/lpsxxx\n",
      "\"make\" -C /home/jovyan/work/iot-lab-training/riot/RIOT/drivers/lsm303dlhc\n",
      "\"make\" -C /home/jovyan/work/iot-lab-training/riot/RIOT/drivers/netdev_ieee802154\n",
      "\"make\" -C /home/jovyan/work/iot-lab-training/riot/RIOT/drivers/periph_common\n",
      "\"make\" -C /home/jovyan/work/iot-lab-training/riot/RIOT/drivers/saul\n",
      "\"make\" -C /home/jovyan/work/iot-lab-training/riot/RIOT/sys\n",
      "\"make\" -C /home/jovyan/work/iot-lab-training/riot/RIOT/sys/auto_init\n",
      "\"make\" -C /home/jovyan/work/iot-lab-training/riot/RIOT/sys/auto_init/netif\n",
      "\"make\" -C /home/jovyan/work/iot-lab-training/riot/RIOT/sys/auto_init/saul\n",
      "\"make\" -C /home/jovyan/work/iot-lab-training/riot/RIOT/sys/div\n",
      "\"make\" -C /home/jovyan/work/iot-lab-training/riot/RIOT/sys/fmt\n",
      "\"make\" -C /home/jovyan/work/iot-lab-training/riot/RIOT/sys/isrpipe\n",
      "\"make\" -C /home/jovyan/work/iot-lab-training/riot/RIOT/sys/luid\n",
      "\"make\" -C /home/jovyan/work/iot-lab-training/riot/RIOT/sys/net/gnrc\n",
      "\"make\" -C /home/jovyan/work/iot-lab-training/riot/RIOT/sys/net/gnrc/netapi\n",
      "\"make\" -C /home/jovyan/work/iot-lab-training/riot/RIOT/sys/net/gnrc/netif\n",
      "\"make\" -C /home/jovyan/work/iot-lab-training/riot/RIOT/sys/net/gnrc/netif/hdr\n",
      "\"make\" -C /home/jovyan/work/iot-lab-training/riot/RIOT/sys/net/gnrc/netif/ieee802154\n",
      "\"make\" -C /home/jovyan/work/iot-lab-training/riot/RIOT/sys/net/gnrc/netreg\n",
      "\"make\" -C /home/jovyan/work/iot-lab-training/riot/RIOT/sys/net/gnrc/pkt\n",
      "\"make\" -C /home/jovyan/work/iot-lab-training/riot/RIOT/sys/net/gnrc/pktbuf\n",
      "\"make\" -C /home/jovyan/work/iot-lab-training/riot/RIOT/sys/net/gnrc/pktbuf_static\n",
      "\"make\" -C /home/jovyan/work/iot-lab-training/riot/RIOT/sys/net/gnrc/pktdump\n",
      "\"make\" -C /home/jovyan/work/iot-lab-training/riot/RIOT/sys/net/link_layer/ieee802154\n",
      "\"make\" -C /home/jovyan/work/iot-lab-training/riot/RIOT/sys/net/link_layer/l2util\n",
      "\"make\" -C /home/jovyan/work/iot-lab-training/riot/RIOT/sys/net/netif\n",
      "\"make\" -C /home/jovyan/work/iot-lab-training/riot/RIOT/sys/newlib_syscalls_default\n",
      "\"make\" -C /home/jovyan/work/iot-lab-training/riot/RIOT/sys/od\n",
      "\"make\" -C /home/jovyan/work/iot-lab-training/riot/RIOT/sys/phydat\n",
      "\"make\" -C /home/jovyan/work/iot-lab-training/riot/RIOT/sys/pm_layered\n",
      "\"make\" -C /home/jovyan/work/iot-lab-training/riot/RIOT/sys/ps\n",
      "\"make\" -C /home/jovyan/work/iot-lab-training/riot/RIOT/sys/random\n",
      "\"make\" -C /home/jovyan/work/iot-lab-training/riot/RIOT/sys/random/tinymt32\n",
      "\"make\" -C /home/jovyan/work/iot-lab-training/riot/RIOT/sys/saul_reg\n",
      "\"make\" -C /home/jovyan/work/iot-lab-training/riot/RIOT/sys/shell\n",
      "\"make\" -C /home/jovyan/work/iot-lab-training/riot/RIOT/sys/shell/commands\n",
      "\"make\" -C /home/jovyan/work/iot-lab-training/riot/RIOT/sys/stdio_uart\n",
      "\"make\" -C /home/jovyan/work/iot-lab-training/riot/RIOT/sys/tsrb\n",
      "\"make\" -C /home/jovyan/work/iot-lab-training/riot/RIOT/sys/xtimer\n",
      "   text\t   data\t    bss\t    dec\t    hex\tfilename\n",
      "  49788\t    604\t   6292\t  56684\t   dd6c\t/home/jovyan/work/iot-lab-training/riot/RIOT/examples/default/bin/iotlab-m3/default.elf\n",
      "iotlab-node --jmespath='keys(@)[0]' --format='int'  --list grenoble,m3,101 --flash /home/jovyan/work/iot-lab-training/riot/RIOT/examples/default/bin/iotlab-m3/default.bin | grep 0\n",
      "0\n",
      "make: Leaving directory '/home/jovyan/work/iot-lab-training/riot/RIOT/examples/default'\n"
     ]
    }
   ],
   "source": [
    "!make -C $APP_DIR BOARD=iotlab-m3 DEFAULT_CHANNEL=16 DEFAULT_PAN_ID=$PAN_ID IOTLAB_NODE=m3-101.$SITE.iot-lab.info flash"
   ]
  },
  {
   "cell_type": "markdown",
   "metadata": {},
   "source": [
    "2. Send a new broadcast message from the first node\n",
    "\n",
    "This time, your third node has not received the packet, since its firmware is using another channel and is no more able to communicate with nodes using a different one.\n",
    "\n",
    "3. Call the `ifconfig` command in each terminal to see channel used by each node.\n",
    "\n",
    "### Free up the resources\n",
    "\n",
    "Since you finished the training, stop your experiment to free up the experiment nodes:"
   ]
  },
  {
   "cell_type": "code",
   "execution_count": 13,
   "metadata": {},
   "outputs": [
    {
     "name": "stdout",
     "output_type": "stream",
     "text": [
      "{\n",
      "    \"id\": 199005,\n",
      "    \"status\": \"Delete request registered\"\n",
      "}\n"
     ]
    }
   ],
   "source": [
    "!iotlab-experiment stop"
   ]
  },
  {
   "cell_type": "markdown",
   "metadata": {},
   "source": [
    "The serial link connection through SSH will be closed automatically."
   ]
  }
 ],
 "metadata": {
  "kernelspec": {
   "display_name": "Python 3",
   "language": "python",
   "name": "python3"
  },
  "language_info": {
   "codemirror_mode": {
    "name": "ipython",
    "version": 3
   },
   "file_extension": ".py",
   "mimetype": "text/x-python",
   "name": "python",
   "nbconvert_exporter": "python",
   "pygments_lexer": "ipython3",
   "version": "3.7.6"
  }
 },
 "nbformat": 4,
 "nbformat_minor": 4
}
