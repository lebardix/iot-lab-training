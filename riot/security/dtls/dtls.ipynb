{
 "cells": [
  {
   "cell_type": "markdown",
   "metadata": {},
   "source": [
    "## DTLS communication\n",
    "\n",
    "In this exercise, you will simply book 2 IoT-LAB M3 devices and use one of the RIOT example to perform an encrypted DTLS communication between them.\n",
    "\n",
    "The example is based on the [TinyDTLS library](https://github.com/eclipse/tinydtls) which is adapted to RIOT as an external package.\n",
    "\n",
    "The source code of the examples is available on the [GitHub repository of RIOT](https://github.com/RIOT-OS/RIOT/tree/master/examples/dtls-echo).\n",
    "\n",
    "### Submit an experiment on the IoT-LAB\n",
    "\n",
    "1. Choose your site (grenoble|lille|strasbourg):"
   ]
  },
  {
   "cell_type": "code",
   "execution_count": 1,
   "metadata": {},
   "outputs": [
    {
     "name": "stdout",
     "output_type": "stream",
     "text": [
      "env: SITE=grenoble\n"
     ]
    }
   ],
   "source": [
    "%env SITE=grenoble"
   ]
  },
  {
   "cell_type": "markdown",
   "metadata": {},
   "source": [
    "2. Submit an experiment using the following command:"
   ]
  },
  {
   "cell_type": "code",
   "execution_count": 2,
   "metadata": {},
   "outputs": [
    {
     "name": "stdout",
     "output_type": "stream",
     "text": [
      "{\n",
      "    \"id\": 199841\n",
      "}\n"
     ]
    }
   ],
   "source": [
    "!iotlab-experiment submit -n \"riot-dtls\" -d 20 -l 2,archi=m3:at86rf231+site=$SITE"
   ]
  },
  {
   "cell_type": "markdown",
   "metadata": {},
   "source": [
    "3. Wait for the experiment to be in the Running state:"
   ]
  },
  {
   "cell_type": "code",
   "execution_count": 3,
   "metadata": {},
   "outputs": [
    {
     "name": "stdout",
     "output_type": "stream",
     "text": [
      "Waiting that experiment 199841 gets in state Running\n",
      "\"Running\"\n"
     ]
    }
   ],
   "source": [
    "!iotlab-experiment wait --timeout 30 --cancel-on-timeout"
   ]
  },
  {
   "cell_type": "markdown",
   "metadata": {},
   "source": [
    "**Note:** If the command above returns the message `Timeout reached, cancelling experiment <exp_id>`, try to re-submit your experiment later or try on another site."
   ]
  },
  {
   "cell_type": "markdown",
   "metadata": {},
   "source": [
    "4. Get the experiment nodes list:"
   ]
  },
  {
   "cell_type": "code",
   "execution_count": 4,
   "metadata": {},
   "outputs": [
    {
     "name": "stdout",
     "output_type": "stream",
     "text": [
      "{\n",
      "    \"items\": [\n",
      "        {\n",
      "            \"archi\": \"m3:at86rf231\",\n",
      "            \"camera\": null,\n",
      "            \"mobile\": \"0\",\n",
      "            \"mobility_type\": \" \",\n",
      "            \"network_address\": \"m3-96.grenoble.iot-lab.info\",\n",
      "            \"production\": \"YES\",\n",
      "            \"site\": \"grenoble\",\n",
      "            \"state\": \"Alive\",\n",
      "            \"uid\": \"b468\",\n",
      "            \"x\": \"1.00\",\n",
      "            \"y\": \"26.52\",\n",
      "            \"z\": \"-0.04\"\n",
      "        },\n",
      "        {\n",
      "            \"archi\": \"m3:at86rf231\",\n",
      "            \"camera\": null,\n",
      "            \"mobile\": \"0\",\n",
      "            \"mobility_type\": \" \",\n",
      "            \"network_address\": \"m3-97.grenoble.iot-lab.info\",\n",
      "            \"production\": \"YES\",\n",
      "            \"site\": \"grenoble\",\n",
      "            \"state\": \"Alive\",\n",
      "            \"uid\": \"b179\",\n",
      "            \"x\": \"0.40\",\n",
      "            \"y\": \"25.92\",\n",
      "            \"z\": \"-0.04\"\n",
      "        }\n",
      "    ]\n",
      "}\n"
     ]
    }
   ],
   "source": [
    "!iotlab-experiment get --nodes"
   ]
  },
  {
   "cell_type": "markdown",
   "metadata": {},
   "source": [
    "5. Build and flash the application on the devices:"
   ]
  },
  {
   "cell_type": "code",
   "execution_count": 5,
   "metadata": {},
   "outputs": [
    {
     "name": "stdout",
     "output_type": "stream",
     "text": [
      "make: Entering directory '/home/jovyan/work/iot-lab-training/riot/RIOT/examples/dtls-echo'\n",
      "\u001b[1;32mBuilding application \"dtls_echo\" for \"iotlab-m3\" with MCU \"stm32f1\".\u001b[0m\n",
      "\n",
      "[INFO] cloning tinydtls\n",
      "Cloning into '/home/jovyan/work/iot-lab-training/riot/RIOT/examples/dtls-echo/bin/pkg/iotlab-m3/tinydtls'...\n",
      "remote: Enumerating objects: 693, done.\u001b[K\n",
      "remote: Total 693 (delta 0), reused 0 (delta 0), pack-reused 693\u001b[K\n",
      "Receiving objects: 100% (693/693), 357.89 KiB | 1.13 MiB/s, done.\n",
      "Resolving deltas: 100% (416/416), done.\n",
      "HEAD is now at 7a0420b dtls.c: Fix length calculation in dtls_create_cookie()\n",
      "[INFO] updating tinydtls /home/jovyan/work/iot-lab-training/riot/RIOT/examples/dtls-echo/bin/pkg/iotlab-m3/tinydtls/.pkg-state.git-downloaded\n",
      "echo 7a0420bfe3c041789cc0fe87822832f2fd12d0c3 > /home/jovyan/work/iot-lab-training/riot/RIOT/examples/dtls-echo/bin/pkg/iotlab-m3/tinydtls/.pkg-state.git-downloaded\n",
      "[INFO] patch tinydtls\n",
      "\"make\" -C /home/jovyan/work/iot-lab-training/riot/RIOT/pkg/tinydtls\n",
      "\"make\" -C /home/jovyan/work/iot-lab-training/riot/RIOT/examples/dtls-echo/bin/pkg/iotlab-m3/tinydtls\n",
      "\"make\" -C /home/jovyan/work/iot-lab-training/riot/RIOT/boards/iotlab-m3\n",
      "\"make\" -C /home/jovyan/work/iot-lab-training/riot/RIOT/boards/common/iotlab\n",
      "\"make\" -C /home/jovyan/work/iot-lab-training/riot/RIOT/core\n",
      "\"make\" -C /home/jovyan/work/iot-lab-training/riot/RIOT/cpu/stm32f1\n",
      "\"make\" -C /home/jovyan/work/iot-lab-training/riot/RIOT/cpu/cortexm_common\n",
      "\"make\" -C /home/jovyan/work/iot-lab-training/riot/RIOT/cpu/cortexm_common/periph\n",
      "\"make\" -C /home/jovyan/work/iot-lab-training/riot/RIOT/cpu/stm32_common\n",
      "\"make\" -C /home/jovyan/work/iot-lab-training/riot/RIOT/cpu/stm32_common/periph\n",
      "\"make\" -C /home/jovyan/work/iot-lab-training/riot/RIOT/cpu/stm32f1/periph\n",
      "\"make\" -C /home/jovyan/work/iot-lab-training/riot/RIOT/drivers\n",
      "\"make\" -C /home/jovyan/work/iot-lab-training/riot/RIOT/drivers/at86rf2xx\n",
      "\"make\" -C /home/jovyan/work/iot-lab-training/riot/RIOT/drivers/netdev_ieee802154\n",
      "\"make\" -C /home/jovyan/work/iot-lab-training/riot/RIOT/drivers/periph_common\n",
      "\"make\" -C /home/jovyan/work/iot-lab-training/riot/RIOT/examples/dtls-echo/bin/pkg/iotlab-m3/tinydtls/aes\n",
      "\"make\" -C /home/jovyan/work/iot-lab-training/riot/RIOT/examples/dtls-echo/bin/pkg/iotlab-m3/tinydtls/ecc\n",
      "\"make\" -C /home/jovyan/work/iot-lab-training/riot/RIOT/sys\n",
      "\"make\" -C /home/jovyan/work/iot-lab-training/riot/RIOT/sys/auto_init\n",
      "\"make\" -C /home/jovyan/work/iot-lab-training/riot/RIOT/sys/auto_init/netif\n",
      "\"make\" -C /home/jovyan/work/iot-lab-training/riot/RIOT/sys/div\n",
      "\"make\" -C /home/jovyan/work/iot-lab-training/riot/RIOT/sys/evtimer\n",
      "\"make\" -C /home/jovyan/work/iot-lab-training/riot/RIOT/sys/fmt\n",
      "\"make\" -C /home/jovyan/work/iot-lab-training/riot/RIOT/sys/hashes\n",
      "\"make\" -C /home/jovyan/work/iot-lab-training/riot/RIOT/sys/isrpipe\n",
      "\"make\" -C /home/jovyan/work/iot-lab-training/riot/RIOT/sys/luid\n",
      "\"make\" -C /home/jovyan/work/iot-lab-training/riot/RIOT/sys/memarray\n",
      "\"make\" -C /home/jovyan/work/iot-lab-training/riot/RIOT/sys/net/crosslayer/inet_csum\n",
      "\"make\" -C /home/jovyan/work/iot-lab-training/riot/RIOT/sys/net/gnrc\n",
      "\"make\" -C /home/jovyan/work/iot-lab-training/riot/RIOT/sys/net/gnrc/netapi\n",
      "\"make\" -C /home/jovyan/work/iot-lab-training/riot/RIOT/sys/net/gnrc/netif\n",
      "\"make\" -C /home/jovyan/work/iot-lab-training/riot/RIOT/sys/net/gnrc/netif/hdr\n",
      "\"make\" -C /home/jovyan/work/iot-lab-training/riot/RIOT/sys/net/gnrc/netif/ieee802154\n",
      "\"make\" -C /home/jovyan/work/iot-lab-training/riot/RIOT/sys/net/gnrc/netreg\n",
      "\"make\" -C /home/jovyan/work/iot-lab-training/riot/RIOT/sys/net/gnrc/network_layer/icmpv6\n",
      "\"make\" -C /home/jovyan/work/iot-lab-training/riot/RIOT/sys/net/gnrc/network_layer/ipv6\n",
      "\"make\" -C /home/jovyan/work/iot-lab-training/riot/RIOT/sys/net/gnrc/network_layer/ipv6/hdr\n",
      "\"make\" -C /home/jovyan/work/iot-lab-training/riot/RIOT/sys/net/gnrc/network_layer/ipv6/nib\n",
      "\"make\" -C /home/jovyan/work/iot-lab-training/riot/RIOT/sys/net/gnrc/network_layer/ndp\n",
      "\"make\" -C /home/jovyan/work/iot-lab-training/riot/RIOT/sys/net/gnrc/network_layer/sixlowpan\n",
      "\"make\" -C /home/jovyan/work/iot-lab-training/riot/RIOT/sys/net/gnrc/network_layer/sixlowpan/ctx\n",
      "\"make\" -C /home/jovyan/work/iot-lab-training/riot/RIOT/sys/net/gnrc/network_layer/sixlowpan/frag\n",
      "\"make\" -C /home/jovyan/work/iot-lab-training/riot/RIOT/sys/net/gnrc/network_layer/sixlowpan/frag/fb\n",
      "\"make\" -C /home/jovyan/work/iot-lab-training/riot/RIOT/sys/net/gnrc/network_layer/sixlowpan/frag/rb\n",
      "\"make\" -C /home/jovyan/work/iot-lab-training/riot/RIOT/sys/net/gnrc/network_layer/sixlowpan/iphc\n",
      "\"make\" -C /home/jovyan/work/iot-lab-training/riot/RIOT/sys/net/gnrc/network_layer/sixlowpan/nd\n",
      "\"make\" -C /home/jovyan/work/iot-lab-training/riot/RIOT/sys/net/gnrc/pkt\n",
      "\"make\" -C /home/jovyan/work/iot-lab-training/riot/RIOT/sys/net/gnrc/pktbuf\n",
      "\"make\" -C /home/jovyan/work/iot-lab-training/riot/RIOT/sys/net/gnrc/pktbuf_static\n",
      "\"make\" -C /home/jovyan/work/iot-lab-training/riot/RIOT/sys/net/gnrc/sock\n",
      "\"make\" -C /home/jovyan/work/iot-lab-training/riot/RIOT/sys/net/gnrc/sock/udp\n",
      "\"make\" -C /home/jovyan/work/iot-lab-training/riot/RIOT/sys/net/gnrc/transport_layer/udp\n",
      "\"make\" -C /home/jovyan/work/iot-lab-training/riot/RIOT/sys/net/link_layer/ieee802154\n",
      "\"make\" -C /home/jovyan/work/iot-lab-training/riot/RIOT/sys/net/link_layer/l2util\n",
      "\"make\" -C /home/jovyan/work/iot-lab-training/riot/RIOT/sys/net/netif\n",
      "\"make\" -C /home/jovyan/work/iot-lab-training/riot/RIOT/sys/net/network_layer/icmpv6\n",
      "\"make\" -C /home/jovyan/work/iot-lab-training/riot/RIOT/sys/net/network_layer/ipv6/addr\n",
      "\"make\" -C /home/jovyan/work/iot-lab-training/riot/RIOT/sys/net/network_layer/ipv6/hdr\n",
      "\"make\" -C /home/jovyan/work/iot-lab-training/riot/RIOT/sys/net/network_layer/sixlowpan\n",
      "\"make\" -C /home/jovyan/work/iot-lab-training/riot/RIOT/sys/net/transport_layer/udp\n",
      "\"make\" -C /home/jovyan/work/iot-lab-training/riot/RIOT/sys/newlib_syscalls_default\n",
      "\"make\" -C /home/jovyan/work/iot-lab-training/riot/RIOT/sys/pm_layered\n",
      "\"make\" -C /home/jovyan/work/iot-lab-training/riot/RIOT/sys/random\n",
      "\"make\" -C /home/jovyan/work/iot-lab-training/riot/RIOT/sys/random/tinymt32\n",
      "\"make\" -C /home/jovyan/work/iot-lab-training/riot/RIOT/sys/shell\n",
      "\"make\" -C /home/jovyan/work/iot-lab-training/riot/RIOT/sys/shell/commands\n",
      "\"make\" -C /home/jovyan/work/iot-lab-training/riot/RIOT/sys/stdio_uart\n",
      "\"make\" -C /home/jovyan/work/iot-lab-training/riot/RIOT/sys/tsrb\n",
      "\"make\" -C /home/jovyan/work/iot-lab-training/riot/RIOT/sys/xtimer\n",
      "   text\t   data\t    bss\t    dec\t    hex\tfilename\n",
      "  97452\t    868\t  22424\t 120744\t  1d7a8\t/home/jovyan/work/iot-lab-training/riot/RIOT/examples/dtls-echo/bin/iotlab-m3/dtls_echo.elf\n",
      "make: Leaving directory '/home/jovyan/work/iot-lab-training/riot/RIOT/examples/dtls-echo'\n"
     ]
    }
   ],
   "source": [
    "!make BOARD=iotlab-m3 -C ../../RIOT/examples/dtls-echo"
   ]
  },
  {
   "cell_type": "code",
   "execution_count": 6,
   "metadata": {},
   "outputs": [
    {
     "name": "stdout",
     "output_type": "stream",
     "text": [
      "{\n",
      "    \"0\": [\n",
      "        \"m3-96.grenoble.iot-lab.info\",\n",
      "        \"m3-97.grenoble.iot-lab.info\"\n",
      "    ]\n",
      "}\n"
     ]
    }
   ],
   "source": [
    "!iotlab-node --flash ../../RIOT/examples/dtls-echo/bin/iotlab-m3/dtls_echo.bin"
   ]
  },
  {
   "cell_type": "markdown",
   "metadata": {},
   "source": [
    "### Interact with the 2 IoT-LAB M3 devices\n",
    "\n",
    "1. Open **two** JupyterLab Terminal (File > New > Terminal) and connect to the SSH frontend server in each of them. Replace `<site>` with the right value."
   ]
  },
  {
   "cell_type": "raw",
   "metadata": {},
   "source": [
    "ssh $IOTLAB_LOGIN@<site>.iot-lab.info"
   ]
  },
  {
   "cell_type": "markdown",
   "metadata": {},
   "source": [
    "2. From there, use the `nc` (or 'netcat') command to connect the device socket (host is node's network address, port is 20000), from both terminals:"
   ]
  },
  {
   "cell_type": "raw",
   "metadata": {},
   "source": [
    "<login>@<site>:~$ nc m3-<id1> 20000"
   ]
  },
  {
   "cell_type": "raw",
   "metadata": {},
   "source": [
    "<login>@<site>:~$ nc m3-<id2> 20000"
   ]
  },
  {
   "cell_type": "markdown",
   "metadata": {},
   "source": [
    "3. On one of the device, use `help` to list the available commands provided by the shell:"
   ]
  },
  {
   "cell_type": "raw",
   "metadata": {},
   "source": [
    "> help\n",
    "help\n",
    "Command              Description\n",
    "---------------------------------------\n",
    "dtlsc                Start a DTLS client\n",
    "dtlss                Start and stop a DTLS server\n",
    "reboot               Reboot the node\n",
    "random_init          initializes the PRNG\n",
    "random_get           returns 32 bit of pseudo randomness\n",
    "nib                  Configure neighbor information base\n",
    "ifconfig             Configure network interfaces\n",
    "6ctx                 6LoWPAN context configuration tool"
   ]
  },
  {
   "cell_type": "markdown",
   "metadata": {},
   "source": [
    "4. Call `ifconfig` on the device that will be used a server to print its network configuration:"
   ]
  },
  {
   "cell_type": "raw",
   "metadata": {},
   "source": [
    "> ifconfig\n",
    "ifconfig\n",
    "Iface  6  HWaddr: 11:15  Channel: 26  Page: 0  NID: 0x23\n",
    "          Long HWaddr: 3A:5D:F9:65:10:6B:11:15 \n",
    "           TX-Power: 0dBm  State: IDLE  max. Retrans.: 3  CSMA Retries: 4 \n",
    "          AUTOACK  ACK_REQ  CSMA  L2-PDU:102 MTU:1280  HL:64  6LO  \n",
    "          IPHC  \n",
    "          Source address length: 8\n",
    "          Link type: wireless\n",
    "          inet6 addr: fe80::385d:f965:106b:1115  scope: link  VAL\n",
    "          inet6 group: ff02::1"
   ]
  },
  {
   "cell_type": "markdown",
   "metadata": {},
   "source": [
    "The address of the server is `fe80::385d:f965:106b:1115`."
   ]
  },
  {
   "cell_type": "markdown",
   "metadata": {},
   "source": [
    "5. Then start the `dtls` server:"
   ]
  },
  {
   "cell_type": "raw",
   "metadata": {},
   "source": [
    "> dtlss start"
   ]
  },
  {
   "cell_type": "markdown",
   "metadata": {},
   "source": [
    "6. Switch to the other terminal, it will be used as a client and send an encrypted message to the server:"
   ]
  },
  {
   "cell_type": "raw",
   "metadata": {},
   "source": [
    "> dtlsc fe80::385d:f965:106b:1115 \"Hello encrypted world\"\n",
    "dtlsc fe80::385d:f965:106b:1115 \"Hello encrypted world\"\n",
    "Client: got DTLS Data App -- Hello encrypted world --"
   ]
  },
  {
   "cell_type": "markdown",
   "metadata": {},
   "source": [
    "On the server side, the message is successfuly reveived and echoed to the client:"
   ]
  },
  {
   "cell_type": "raw",
   "metadata": {},
   "source": [
    "Server: got DTLS Data App: --- Hello encrypted world ---        (echo!)\n",
    "Received alert from client"
   ]
  },
  {
   "cell_type": "markdown",
   "metadata": {},
   "source": [
    "### Free up the resources\n",
    "\n",
    "Stop your experiment to free up the devices:"
   ]
  },
  {
   "cell_type": "code",
   "execution_count": null,
   "metadata": {},
   "outputs": [],
   "source": [
    "!iotlab-experiment stop"
   ]
  }
 ],
 "metadata": {
  "kernelspec": {
   "display_name": "Python 3",
   "language": "python",
   "name": "python3"
  },
  "language_info": {
   "codemirror_mode": {
    "name": "ipython",
    "version": 3
   },
   "file_extension": ".py",
   "mimetype": "text/x-python",
   "name": "python",
   "nbconvert_exporter": "python",
   "pygments_lexer": "ipython3",
   "version": "3.7.6"
  }
 },
 "nbformat": 4,
 "nbformat_minor": 4
}
