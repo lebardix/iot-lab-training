{
 "cells": [
  {
   "cell_type": "markdown",
   "metadata": {},
   "source": [
    "## Hash computation\n",
    "\n",
    "In this exercise, you will write RIOT shell commands to compute the hash of a given input string:\n",
    "- One command that produces and print the hash using the SHA256 algorithm\n",
    "- One command that produces and print the hash using the SHA3-256 algorithm\n",
    "\n",
    "In both cases, the hash is stored in memory in a byte array and, to print it, it must be converted to a string of hexadecimal characters. RIOT provides a helper module, `fmt`, with useful functions to do that easily.\n",
    "\n",
    "Hash functions of several algorithms (SHA256, SHA3-256, SHA1, MD5, CMAC) are provided by the `hashes` module.\n",
    "\n",
    "### Add required modules to the build\n",
    "\n",
    "Since the application is about to implement shell functions, the `shell` module must be added to the build, as well as the `fmt` et `hashes` modules.\n",
    "\n",
    "Edit the file Makefile and add there the required modules to the build.\n",
    "\n",
    "```\n",
    "USEMODULE += fmt\n",
    "USEMODULE += hashes\n",
    "USEMODULE += shell\n",
    "```\n",
    "\n",
    "### Implement the application\n",
    "\n",
    "Now edit the `main.c` file as follows:\n",
    "\n",
    "1. Add the required includes corresponding to the fmt, shell and hashes modules that will be used by the application:\n",
    "\n",
    "```c\n",
    "#include \"fmt.h\"\n",
    "#include \"shell.h\"\n",
    "\n",
    "#include \"hashes/sha256.h\"\n",
    "#include \"hashes/sha3.h\"\n",
    "```\n",
    "\n",
    "2. Implement the sha256 command handler function:\n",
    "\n",
    "    - Declare 2 buffers, the first one for the computed hash itself, and the second one for its hexadecimal string representation:\n",
    "    ```c\n",
    "    static uint8_t sha256_hash[SHA256_DIGEST_LENGTH];\n",
    "    static char sha256_hash_hex[SHA256_DIGEST_LENGTH * 2];\n",
    "    ```\n",
    "\n",
    "     **Note:** the size of the hexadecimal string buffer is twice as large as the hash itself, because a single byte is represented by 2 hexadecimal characters.\n",
    "\n",
    "    - Call the functions that will compute the hash from the command line argument `argv[1]`:\n",
    "    ```c\n",
    "    sha256_context_t sha256;\n",
    "    sha256_init(&sha256);\n",
    "    sha256_update(&sha256, (uint8_t*)argv[1], strlen(argv[1]));\n",
    "    sha256_final(&sha256, sha256_hash);\n",
    "    ```\n",
    "\n",
    "    - Convert the computed hash (a byte array) to its hexadecimal string representation:\n",
    "    ```c\n",
    "    fmt_bytes_hex(sha256_hash_hex, sha256_hash, SHA256_DIGEST_LENGTH);\n",
    "    ```\n",
    "\n",
    "3. Implement the sha3 command handler function:\n",
    "    - Declare 2 buffers, the first one for the computed hash itself, and the second one for its hexadecimal string representation:\n",
    "    ```c\n",
    "    static uint8_t sha3_hash[SHA3_256_DIGEST_LENGTH];\n",
    "    static char sha3_hash_hex[SHA3_256_DIGEST_LENGTH * 2];\n",
    "    ```\n",
    "\n",
    "    - Call the functions that will compute the hash from the command line argument `argv[1]`:\n",
    "    ```c\n",
    "    keccak_state_t state;\n",
    "    sha3_256_init(&state);\n",
    "    sha3_update(&state, argv[1], strlen(argv[1]));\n",
    "    sha3_256_final(&state, sha3_hash);\n",
    "    ```\n",
    "    \n",
    "    - Convert the computed hash (a byte array) to its hexadecimal string representation:\n",
    "    ```c\n",
    "    fmt_bytes_hex(sha3_hash_hex, sha3_hash, SHA3_256_DIGEST_LENGTH);\n",
    "    ```\n",
    "\n",
    "### Build and test the application on native\n",
    "\n",
    "Open a terminal with the `File > New > Terminal` menu and build for native (the default board, according to the `Makefile`):"
   ]
  },
  {
   "cell_type": "raw",
   "metadata": {},
   "source": [
    "make -C riot/security/hash"
   ]
  },
  {
   "cell_type": "markdown",
   "metadata": {},
   "source": [
    "Once the build is passing, start the native instance and play with the RIOT shell:"
   ]
  },
  {
   "cell_type": "raw",
   "metadata": {},
   "source": [
    "make -C riot/security/hash term"
   ]
  },
  {
   "cell_type": "markdown",
   "metadata": {},
   "source": [
    "You can list the commands available, with the `help` command:"
   ]
  },
  {
   "cell_type": "raw",
   "metadata": {},
   "source": [
    "> help\n",
    "help\n",
    "Command              Description\n",
    "---------------------------------------\n",
    "sha256               Compute SHA256 hasg\n",
    "sha3                 Compute SHA3 hash"
   ]
  },
  {
   "cell_type": "markdown",
   "metadata": {},
   "source": [
    "Verify the computed hashes are valid:"
   ]
  },
  {
   "cell_type": "raw",
   "metadata": {},
   "source": [
    "> sha256 riot\n",
    "sha256 riot\n",
    "SHA256: FCCDA8FAEFEBB2EC17684836D4DD8793011EA79DA7244E0E04D2460BEF080E3C\n",
    "\n",
    "> sha3 riot\n",
    "sha3 riot\n",
    "SHA3: 759B2B5474663D26B675350B09E2C2A41B6090B0F2BBFFBFF5C1802F7628426B"
   ]
  },
  {
   "cell_type": "markdown",
   "metadata": {},
   "source": [
    "You can compare the sha256 output with the result of `sha256sum` command on Linux:"
   ]
  },
  {
   "cell_type": "code",
   "execution_count": 1,
   "metadata": {},
   "outputs": [
    {
     "name": "stdout",
     "output_type": "stream",
     "text": [
      "fccda8faefebb2ec17684836d4dd8793011ea79da7244e0e04d2460bef080e3c  -\n"
     ]
    }
   ],
   "source": [
    "!echo -n riot | sha256sum"
   ]
  },
  {
   "cell_type": "markdown",
   "metadata": {},
   "source": [
    "### Build and test the application on IoT-LAB\n",
    "\n",
    "The application is now ready and can be tested on real hardware, on an iotlab-m3 in the IoT-LAB testbed.\n",
    "\n",
    "1. Choose your site (grenoble|lille|strasbourg):"
   ]
  },
  {
   "cell_type": "code",
   "execution_count": 8,
   "metadata": {},
   "outputs": [
    {
     "name": "stdout",
     "output_type": "stream",
     "text": [
      "env: SITE=grenoble\n"
     ]
    }
   ],
   "source": [
    "%env SITE=grenoble"
   ]
  },
  {
   "cell_type": "markdown",
   "metadata": {},
   "source": [
    "2. Submit an experiment using the following command:"
   ]
  },
  {
   "cell_type": "code",
   "execution_count": 9,
   "metadata": {},
   "outputs": [
    {
     "name": "stdout",
     "output_type": "stream",
     "text": [
      "{\n",
      "    \"id\": 199825\n",
      "}\n"
     ]
    }
   ],
   "source": [
    "!iotlab-experiment submit -n \"riot-hash\" -d 20 -l 1,archi=m3:at86rf231+site=$SITE"
   ]
  },
  {
   "cell_type": "markdown",
   "metadata": {},
   "source": [
    "3. Wait for the experiment to be in the Running state:"
   ]
  },
  {
   "cell_type": "code",
   "execution_count": 10,
   "metadata": {},
   "outputs": [
    {
     "name": "stdout",
     "output_type": "stream",
     "text": [
      "Waiting that experiment 199825 gets in state Running\n",
      "\"Running\"\n"
     ]
    }
   ],
   "source": [
    "!iotlab-experiment wait --timeout 30 --cancel-on-timeout"
   ]
  },
  {
   "cell_type": "markdown",
   "metadata": {},
   "source": [
    "**Note:** If the command above returns the message `Timeout reached, cancelling experiment <exp_id>`, try to re-submit your experiment later or try on another site."
   ]
  },
  {
   "cell_type": "markdown",
   "metadata": {},
   "source": [
    "4. Get the experiment nodes list:"
   ]
  },
  {
   "cell_type": "code",
   "execution_count": 11,
   "metadata": {},
   "outputs": [
    {
     "name": "stdout",
     "output_type": "stream",
     "text": [
      "{\n",
      "    \"items\": [\n",
      "        {\n",
      "            \"archi\": \"m3:at86rf231\",\n",
      "            \"camera\": null,\n",
      "            \"mobile\": \"0\",\n",
      "            \"mobility_type\": \" \",\n",
      "            \"network_address\": \"m3-101.grenoble.iot-lab.info\",\n",
      "            \"production\": \"YES\",\n",
      "            \"site\": \"grenoble\",\n",
      "            \"state\": \"Alive\",\n",
      "            \"uid\": \"9181\",\n",
      "            \"x\": \"0.40\",\n",
      "            \"y\": \"24.63\",\n",
      "            \"z\": \"-0.04\"\n",
      "        }\n",
      "    ]\n",
      "}\n"
     ]
    }
   ],
   "source": [
    "!iotlab-experiment get --nodes"
   ]
  },
  {
   "cell_type": "markdown",
   "metadata": {},
   "source": [
    "5. Build and flash the shell application for the iotlab-m3 target device:"
   ]
  },
  {
   "cell_type": "code",
   "execution_count": 12,
   "metadata": {},
   "outputs": [
    {
     "name": "stdout",
     "output_type": "stream",
     "text": [
      "\u001b[1;32mBuilding application \"hash\" for \"iotlab-m3\" with MCU \"stm32f1\".\u001b[0m\n",
      "\n",
      "\"make\" -C /home/jovyan/work/iot-lab-training/riot/RIOT/boards/iotlab-m3\n",
      "\"make\" -C /home/jovyan/work/iot-lab-training/riot/RIOT/boards/common/iotlab\n",
      "\"make\" -C /home/jovyan/work/iot-lab-training/riot/RIOT/core\n",
      "\"make\" -C /home/jovyan/work/iot-lab-training/riot/RIOT/cpu/stm32f1\n",
      "\"make\" -C /home/jovyan/work/iot-lab-training/riot/RIOT/cpu/cortexm_common\n",
      "\"make\" -C /home/jovyan/work/iot-lab-training/riot/RIOT/cpu/cortexm_common/periph\n",
      "\"make\" -C /home/jovyan/work/iot-lab-training/riot/RIOT/cpu/stm32_common\n",
      "\"make\" -C /home/jovyan/work/iot-lab-training/riot/RIOT/cpu/stm32_common/periph\n",
      "\"make\" -C /home/jovyan/work/iot-lab-training/riot/RIOT/cpu/stm32f1/periph\n",
      "\"make\" -C /home/jovyan/work/iot-lab-training/riot/RIOT/drivers\n",
      "\"make\" -C /home/jovyan/work/iot-lab-training/riot/RIOT/drivers/periph_common\n",
      "\"make\" -C /home/jovyan/work/iot-lab-training/riot/RIOT/sys\n",
      "\"make\" -C /home/jovyan/work/iot-lab-training/riot/RIOT/sys/auto_init\n",
      "\"make\" -C /home/jovyan/work/iot-lab-training/riot/RIOT/sys/fmt\n",
      "\"make\" -C /home/jovyan/work/iot-lab-training/riot/RIOT/sys/hashes\n",
      "\"make\" -C /home/jovyan/work/iot-lab-training/riot/RIOT/sys/isrpipe\n",
      "\"make\" -C /home/jovyan/work/iot-lab-training/riot/RIOT/sys/newlib_syscalls_default\n",
      "\"make\" -C /home/jovyan/work/iot-lab-training/riot/RIOT/sys/pm_layered\n",
      "\"make\" -C /home/jovyan/work/iot-lab-training/riot/RIOT/sys/shell\n",
      "\"make\" -C /home/jovyan/work/iot-lab-training/riot/RIOT/sys/stdio_uart\n",
      "\"make\" -C /home/jovyan/work/iot-lab-training/riot/RIOT/sys/tsrb\n",
      "   text\t   data\t    bss\t    dec\t    hex\tfilename\n",
      "  11336\t    204\t   2812\t  14352\t   3810\t/home/jovyan/work/iot-lab-training/riot/security/hash/bin/iotlab-m3/hash.elf\n",
      "iotlab-node --jmespath='keys(@)[0]' --format='int'  --list grenoble,m3,101 --flash /home/jovyan/work/iot-lab-training/riot/security/hash/bin/iotlab-m3/hash.bin | grep 0\n",
      "0\n"
     ]
    }
   ],
   "source": [
    "!make BOARD=iotlab-m3 IOTLAB_NODE=auto-ssh flash"
   ]
  },
  {
   "cell_type": "markdown",
   "metadata": {},
   "source": [
    "6. In the terminal, open the serial link:"
   ]
  },
  {
   "cell_type": "raw",
   "metadata": {},
   "source": [
    "make BOARD=iotlab-m3 IOTLAB_NODE=auto-ssh -C riot/security/hash term"
   ]
  },
  {
   "cell_type": "markdown",
   "metadata": {},
   "source": [
    "Interact with the shell on the IoT-LAB M3 and verify that you get the same hash results:"
   ]
  },
  {
   "cell_type": "raw",
   "metadata": {},
   "source": [
    "> help\n",
    "help\n",
    "Command              Description\n",
    "---------------------------------------\n",
    "sha256               Compute SHA256 hasg\n",
    "sha3                 Compute SHA3 hash\n",
    "> sha256 riot\n",
    "sha256 riot\n",
    "SHA256: FCCDA8FAEFEBB2EC17684836D4DD8793011EA79DA7244E0E04D2460BEF080E3C\n",
    "> sha3 riot\n",
    "sha3 riot\n",
    "SHA3: 759B2B5474663D26B675350B09E2C2A41B6090B0F2BBFFBFF5C1802F7628426B"
   ]
  },
  {
   "cell_type": "markdown",
   "metadata": {},
   "source": [
    "### Free up the resources\n",
    "\n",
    "Stop your experiment to free up the device:"
   ]
  },
  {
   "cell_type": "code",
   "execution_count": 7,
   "metadata": {},
   "outputs": [
    {
     "name": "stdout",
     "output_type": "stream",
     "text": [
      "{\n",
      "    \"id\": 199824,\n",
      "    \"status\": \"Delete request registered\"\n",
      "}\n"
     ]
    }
   ],
   "source": [
    "!iotlab-experiment stop"
   ]
  }
 ],
 "metadata": {
  "kernelspec": {
   "display_name": "Python 3",
   "language": "python",
   "name": "python3"
  },
  "language_info": {
   "codemirror_mode": {
    "name": "ipython",
    "version": 3
   },
   "file_extension": ".py",
   "mimetype": "text/x-python",
   "name": "python",
   "nbconvert_exporter": "python",
   "pygments_lexer": "ipython3",
   "version": "3.7.6"
  }
 },
 "nbformat": 4,
 "nbformat_minor": 4
}
