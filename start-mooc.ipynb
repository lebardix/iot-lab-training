{
 "cells": [
  {
   "cell_type": "markdown",
   "metadata": {},
   "source": [
    "# Welcome to the first hands-on activity of the MOOC\n",
    "\n",
    "Let's discover the environment you will use for the hands-on activities of this MOOC.\n",
    "\n",
    "## Short introduction to JupyterLab\n",
    "\n",
    "If you are reading this introduction it's because JupyterLab is running in the IoT-LAB virtual machine. JupyterLab enables you to work with documents and activities such as Jupyter notebooks, code editors and terminals. You can arrange multiple documents and activities side by side in the work area using tabs and splitters.\n",
    "\n",
    "Jupyter notebooks are documents that combine live runnable code with narrative text (Markdown), equations (LaTeX), images, interactive visualizations and other rich output. It is used by scientists and scholars to create and share their research, especially in the data science community.\n",
    "\n",
    "The notebook consists of a sequence of cells. A cell is a multiline text input field, and its contents can be executed by using Shift-Enter, or by clicking either the “Play” button.\n",
    "\n",
    "### Code cells\n",
    "\n",
    "A code cell allows you to edit and write new code, with full syntax highlighting and tab completion.\n",
    "\n",
    "In general, Jupyter notebooks contain Python code. Once selected the cell should be executed with `Shift+Enter` shortcut. The results that are returned from this computation are then displayed in the notebook as the cell’s output.\n",
    " "
   ]
  },
  {
   "cell_type": "code",
   "execution_count": 1,
   "metadata": {},
   "outputs": [
    {
     "name": "stdout",
     "output_type": "stream",
     "text": [
      "Hello Jupyter!\n"
     ]
    }
   ],
   "source": [
    "print(\"Hello Jupyter!\")"
   ]
  },
  {
   "cell_type": "markdown",
   "metadata": {},
   "source": [
    "In our notebooks you will mainly find shell commands executed in your virtual machine. In this case the cell should start with exclamation mark."
   ]
  },
  {
   "cell_type": "code",
   "execution_count": 2,
   "metadata": {},
   "outputs": [
    {
     "name": "stdout",
     "output_type": "stream",
     "text": [
      "Hello Jupyter!\n"
     ]
    }
   ],
   "source": [
    "!echo \"Hello Jupyter!\""
   ]
  },
  {
   "cell_type": "markdown",
   "metadata": {},
   "source": [
    "Finally you will also find lines starting with the '%' character. They are used to set environment variables.  "
   ]
  },
  {
   "cell_type": "code",
   "execution_count": 7,
   "metadata": {},
   "outputs": [
    {
     "name": "stdout",
     "output_type": "stream",
     "text": [
      "env: HELLO_JUPYTER=\"Hello Jupyter!\"\n",
      "\"Hello Jupyter!\"\n"
     ]
    }
   ],
   "source": [
    "%env HELLO_JUPYTER=\"Hello Jupyter!\"\n",
    "!echo $HELLO_JUPYTER"
   ]
  },
  {
   "cell_type": "markdown",
   "metadata": {},
   "source": [
    " \n",
    "### Raw cells\n",
    "\n",
    "A raw cell provides a place in which you can write output directly. Raw cells are not evaluated by the notebook. \n",
    "\n",
    "In our context we use raw cells when commands need interaction. Therefore you must execute them in JupyterLab terminal. You just have to copy/paste them (Ctrl-C, Ctrl-V). Use `File>New>Terminal` to open a terminal and run the command of the following cell:"
   ]
  },
  {
   "cell_type": "raw",
   "metadata": {},
   "source": [
    "echo \"Hello Jupyter!\""
   ]
  },
  {
   "cell_type": "markdown",
   "metadata": {},
   "source": [
    "Commands that should be run on one of SSH frontend of an IoT-LAB site are prefixed with the prompt `<login>@<site>:~$ `. This means that before running this command after the prompt, you should open an SSH connection to the site frontend with"
   ]
  },
  {
   "cell_type": "code",
   "execution_count": null,
   "metadata": {},
   "outputs": [],
   "source": [
    "ssh $IOTLAB_LOGIN@<site>.iot-lab.info"
   ]
  },
  {
   "cell_type": "markdown",
   "metadata": {},
   "source": [
    "To execute the command `ls` on the SSH frontend of an IoT-LAB site, the raw cell will contain:"
   ]
  },
  {
   "cell_type": "raw",
   "metadata": {},
   "source": [
    "<login>@<site>:~$ ls"
   ]
  },
  {
   "cell_type": "markdown",
   "metadata": {},
   "source": [
    "Commands that should be run in a RIOT or contiki-ng shell are prefixed with the prompt `>`:"
   ]
  },
  {
   "cell_type": "raw",
   "metadata": {},
   "source": [
    "> ifconfig"
   ]
  },
  {
   "cell_type": "markdown",
   "metadata": {},
   "source": [
    "Sometimes the expected output of the command is also given in the raw cells:"
   ]
  },
  {
   "cell_type": "raw",
   "metadata": {},
   "source": [
    "Iface  7  HWaddr: 11:15  Channel: 26  Page: 0  NID: 0x23\n",
    "          Long HWaddr: 22:5C:FC:65:10:6B:11:15 \n",
    "          ..."
   ]
  },
  {
   "cell_type": "markdown",
   "metadata": {},
   "source": [
    "## Your IoT-LAB access\n",
    "\n",
    "The IoT-LAB testbed will be used to run embedded code on electronic boards. No need to create an account on the testbed, everything has be done and setup for you in your JupyterLab environment.\n",
    "\n",
    "### Account Login\n",
    "\n",
    "As your IoT-LAB user login is not so easy to remember, it is stored in an environment variable, that can be used in a notebook cell or in a Terminal. Let's see it's content:"
   ]
  },
  {
   "cell_type": "code",
   "execution_count": 4,
   "metadata": {},
   "outputs": [
    {
     "name": "stdout",
     "output_type": "stream",
     "text": [
      "funfc048f2919\n"
     ]
    }
   ],
   "source": [
    "!echo $IOTLAB_LOGIN"
   ]
  },
  {
   "cell_type": "markdown",
   "metadata": {},
   "source": [
    "### Connection to SSH frontend\n",
    "\n",
    "Some commands or tools need to be run from the SSH frontends. To connect to it, an SSH key pair has been generated for you and associated to your account.\n",
    "\n",
    "Let's verify the setup.\n",
    "\n",
    "1. Open a new JupyterLab Terminal (use `File > New > Terminal`)\n",
    "2. Connect to the Lyon's server site running the following command in the JupyterLab Terminal:"
   ]
  },
  {
   "cell_type": "raw",
   "metadata": {},
   "source": [
    "ssh $IOTLAB_LOGIN@lyon.iot-lab.info"
   ]
  },
  {
   "cell_type": "markdown",
   "metadata": {},
   "source": [
    "3. Then, execute the `ls` command on the SSH frontend:"
   ]
  },
  {
   "cell_type": "raw",
   "metadata": {},
   "source": [
    "<login>@lyon:~$ ls"
   ]
  },
  {
   "cell_type": "markdown",
   "metadata": {},
   "source": [
    "### CLI Tools\n",
    "IoT-LAB CLI tools, used in Jupyter notebooks, request a REST API to interact with your experiments on the testbed. All requests require your IoT-LAB credentials. To avoid having to specify them each time, it could be recorded. Of course, we have already did it for you.\n",
    "\n",
    "Verify the setup by executing the following cell, which prints status of the resources on the Lyon site:"
   ]
  },
  {
   "cell_type": "code",
   "execution_count": 6,
   "metadata": {},
   "outputs": [
    {
     "name": "stdout",
     "output_type": "stream",
     "text": [
      "{\n",
      "    \"items\": [\n",
      "        {\n",
      "            \"archis\": [\n",
      "                {\n",
      "                    \"archi\": \"a8:at86rf231\",\n",
      "                    \"states\": [\n",
      "                        {\n",
      "                            \"ids\": \"86+92+160+196\",\n",
      "                            \"state\": \"Suspected\"\n",
      "                        },\n",
      "                        {\n",
      "                            \"ids\": \"95-96+100-102\",\n",
      "                            \"state\": \"Busy\"\n",
      "                        },\n",
      "                        {\n",
      "                            \"ids\": \"1-85+87-91+93-94+97-99+103-159+161-195+197-228\",\n",
      "                            \"state\": \"Alive\"\n",
      "                        }\n",
      "                    ]\n",
      "                },\n",
      "                {\n",
      "                    \"archi\": \"m3:at86rf231\",\n",
      "                    \"states\": [\n",
      "                        {\n",
      "                            \"ids\": \"17+19+44+50+155+165+187+243+262+315+331+364\",\n",
      "                            \"state\": \"Suspected\"\n",
      "                        },\n",
      "                        {\n",
      "                            \"ids\": \"1+12+100+158+194+201+206+291+296\",\n",
      "                            \"state\": \"Dead\"\n",
      "                        },\n",
      "                        {\n",
      "                            \"ids\": \"95+97+101-102\",\n",
      "                            \"state\": \"Busy\"\n",
      "                        },\n",
      "                        {\n",
      "                            \"ids\": \"2-11+13-16+18+20-43+45-49+51-94+96+98-99+103-154+156-157+159-164+166-186+188-193+195-200+202-205+207-242+244-261+263-290+292-295+297-314+316-330+332-363+365-380\",\n",
      "                            \"state\": \"Alive\"\n",
      "                        }\n",
      "                    ]\n",
      "                }\n",
      "            ],\n",
      "            \"site\": \"grenoble\"\n",
      "        }\n",
      "    ]\n",
      "}\n"
     ]
    }
   ],
   "source": [
    "!iotlab-status --nodes-ids --site grenoble"
   ]
  },
  {
   "cell_type": "markdown",
   "metadata": {},
   "source": [
    "## Experiment resources availability\n",
    "\n",
    "The previous command gives you the availability of resources for a site, sorted by architecture (ie. board type). In the MOOC activities, you will only use the IoT-LAB M3 board (aka 'm3:at86rf231'). Free resources are the one with the state 'Alive'. They are listed by ids, '-' specifying a range, and '+' a concatenation. The entry \"1-6+8-11\" corresponds with the list of nodes: 1, 2, 3, 4, 5, 6, 8, 9, 10 and 11.\n",
    "\n",
    "You are a large number of users to have registered for the Mooc, who will use the testbed and share it with its regular users. \n",
    "Thus, to best share its resources, and according to the needs of activities, we set some rules applied to users of the MOOC:\n",
    "\n",
    "* only one experiment at a time\n",
    "* a maximum of three nodes per experiment\n",
    "* a maximum duration of 2 hours per experiment\n",
    "\n",
    "We have a limited number of experiment resources available, which corresponds to more than 300 simultaneous experiments. So, despite these rules, it could happen that no more resources are available on a site and your experiment is scheduled later. In that case, you could wait a long time before the `iotlab-experiment wait` command ends.\n",
    "\n",
    "The easiest thing to do is to cancel your experiment submission and try with another site or take a chance later.\n",
    "\n",
    "At the end of each notebook you will find a cell with the command to stop or cancel an experiment:"
   ]
  },
  {
   "cell_type": "code",
   "execution_count": null,
   "metadata": {},
   "outputs": [],
   "source": [
    "!iotlab-experiment stop"
   ]
  },
  {
   "cell_type": "markdown",
   "metadata": {},
   "source": [
    "You will also find a cell definig an environment variable to define the site you will use:"
   ]
  },
  {
   "cell_type": "code",
   "execution_count": null,
   "metadata": {},
   "outputs": [],
   "source": [
    "%env SITE=grenoble"
   ]
  },
  {
   "cell_type": "markdown",
   "metadata": {},
   "source": [
    "After changing its value, you will be able to submit an experiment on another site."
   ]
  },
  {
   "cell_type": "markdown",
   "metadata": {},
   "source": [
    "## Restoring an exercise\n",
    "\n",
    "It is possible to restore an exercise completely in its original state.\n",
    "\n",
    "To restore an exercise, just **add a code cell** in the corresponding exercise notebook with the following command:"
   ]
  },
  {
   "cell_type": "raw",
   "metadata": {},
   "source": [
    "!git checkout ."
   ]
  },
  {
   "cell_type": "markdown",
   "metadata": {},
   "source": [
    "Then close and reopen all tabs corresponding to the exercise.\n",
    "\n",
    "**Warning:** all your previous work on the exercise - code changes, notebook output - will be lost with this command. Be careful!"
   ]
  },
  {
   "cell_type": "raw",
   "metadata": {},
   "source": [
    "\n",
    "---\n",
    "\n",
    "If everything is fine, you have all the tooling needed for the following hands-on activities."
   ]
  }
 ],
 "metadata": {
  "kernelspec": {
   "display_name": "Python 3",
   "language": "python",
   "name": "python3"
  },
  "language_info": {
   "codemirror_mode": {
    "name": "ipython",
    "version": 3
   },
   "file_extension": ".py",
   "mimetype": "text/x-python",
   "name": "python",
   "nbconvert_exporter": "python",
   "pygments_lexer": "ipython3",
   "version": "3.7.6"
  }
 },
 "nbformat": 4,
 "nbformat_minor": 4
}
